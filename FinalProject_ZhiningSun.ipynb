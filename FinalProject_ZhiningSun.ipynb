{
 "cells": [
  {
   "cell_type": "markdown",
   "id": "5e4a1fbd-fa53-4f59-a174-17ad6afa9d97",
   "metadata": {},
   "source": [
    "# Suitable Renting Places for Foreign-Born STEM Workers\n",
    "    Zhining Sun\n",
    "    UEP239 Geospatial Programing Final Project"
   ]
  },
  {
   "cell_type": "markdown",
   "id": "58d4f0f9-d8cf-48b0-a236-6d4e5f3bb711",
   "metadata": {},
   "source": [
    "## Background\n",
    "STEM workers usually refer to workers in the field of natural science, math, engineering and technology. Currently, in the United States, STEM workers takes account of 6.2% of total US employment. This number is expected to increase due to the important role played by STEM workers in growing the economy and staying globally competitive. Among STEM workers, proportion of foreign-born workers keeps rising too. Comparing with native-born workers, foreign-borns workers are likely to have relatively less information but higher demand on renting. Their needs should be paid attention. This project is designed to answer the research question: what is suitable areas for foreign-born STEM workers? The tool used by this project is suitability analysis."
   ]
  },
  {
   "cell_type": "code",
   "execution_count": null,
   "id": "91e91bcc-2ec5-4b52-8665-a7df9687a1e9",
   "metadata": {},
   "outputs": [],
   "source": []
  }
 ],
 "metadata": {
  "kernelspec": {
   "display_name": "Python 3",
   "language": "python",
   "name": "python3"
  },
  "language_info": {
   "codemirror_mode": {
    "name": "ipython",
    "version": 3
   },
   "file_extension": ".py",
   "mimetype": "text/x-python",
   "name": "python",
   "nbconvert_exporter": "python",
   "pygments_lexer": "ipython3",
   "version": "3.8.8"
  }
 },
 "nbformat": 4,
 "nbformat_minor": 5
}
