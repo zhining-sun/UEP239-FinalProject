{
 "cells": [
  {
   "cell_type": "markdown",
   "id": "5e4a1fbd-fa53-4f59-a174-17ad6afa9d97",
   "metadata": {},
   "source": [
    "# Suitable Renting Places for Foreign-Born STEM Workers\n",
    "    Zhining Sun\n",
    "    UEP239 Geospatial Programing Final Project"
   ]
  },
  {
   "cell_type": "markdown",
   "id": "58d4f0f9-d8cf-48b0-a236-6d4e5f3bb711",
   "metadata": {},
   "source": [
    "## Background\n",
    "STEM workers usually refer to workers in the field of natural science, math, engineering and technology. Currently, in the United States, STEM workers takes account of 6.2% of total US employment. This number is expected to increase due to the important role played by STEM workers in growing the economy and staying globally competitive. Among STEM workers, proportion of foreign-born workers keeps rising too. Comparing with native-born workers, foreign-borns workers are likely to have relatively less information but higher demand on renting. Their needs should be paid attention. This project is designed to answer the research question: what is suitable areas for foreign-born STEM workers? The tool used by this project is suitability analysis."
   ]
  },
  {
   "cell_type": "code",
   "execution_count": 1,
   "id": "91e91bcc-2ec5-4b52-8665-a7df9687a1e9",
   "metadata": {},
   "outputs": [],
   "source": [
    "#To start with the analysis, we first have to import libraries.\n",
    "import numpy as np\n",
    "import pandas as pd                 \n",
    "import matplotlib.pyplot as plt     \n",
    "import matplotlib.image as mpimg\n",
    "%matplotlib inline                 \n",
    "import folium                       \n",
    "import seaborn as sns   \n",
    "import rasterio\n",
    "from rasterio.plot import show\n",
    "from rasterio import features\n",
    "import geopandas as gpd\n",
    "import richdem as rd\n",
    "from scipy import ndimage\n",
    "from rasterstats import zonal_stats\n",
    "import osmnx as ox\n",
    "import networkx as nx\n",
    "from geopy.geocoders import Nominatim\n",
    "from pyproj import CRS\n",
    "from shapely.geometry import LineString, Point"
   ]
  },
  {
   "cell_type": "markdown",
   "id": "871f9e86-ed17-406f-bfa9-0c985825c29a",
   "metadata": {},
   "source": [
    "## Work Dictionary"
   ]
  },
  {
   "cell_type": "code",
   "execution_count": 2,
   "id": "0430c28d-ce84-4dc5-aeb2-0c81f8b64c01",
   "metadata": {},
   "outputs": [
    {
     "data": {
      "text/plain": [
       "'/Users/zhiningsun/Documents/GitHub/UEP239-FinalProject'"
      ]
     },
     "execution_count": 2,
     "metadata": {},
     "output_type": "execute_result"
    }
   ],
   "source": [
    "#Before we start the analysis, we need to check the work dictionary\n",
    "import os\n",
    "os.getcwd()"
   ]
  },
  {
   "cell_type": "markdown",
   "id": "191146de-b7a9-443c-919f-b305d88bf0b8",
   "metadata": {},
   "source": [
    "## ZCTAs Extractions\n",
    "To start with the analyis, we will extract all ZCTAs that are within the study area. We will extract boundaries, clip outline with ZCTA and then do the extraction as suggested in the Pizza. "
   ]
  },
  {
   "cell_type": "code",
   "execution_count": 3,
   "id": "c003feb1-02a8-4e42-8721-32ceef004ac6",
   "metadata": {},
   "outputs": [],
   "source": [
    "#Note that the area for this project is Boston Metropolitan Area.\n",
    "#We want to read in boundaries\n",
    "Boundaries = gpd.read_file('Data/MPO/MPO_Boundaries.shp')"
   ]
  },
  {
   "cell_type": "code",
   "execution_count": 4,
   "id": "464882da-acf4-4ba7-a74f-86f72571859a",
   "metadata": {},
   "outputs": [
    {
     "data": {
      "text/html": [
       "<div>\n",
       "<style scoped>\n",
       "    .dataframe tbody tr th:only-of-type {\n",
       "        vertical-align: middle;\n",
       "    }\n",
       "\n",
       "    .dataframe tbody tr th {\n",
       "        vertical-align: top;\n",
       "    }\n",
       "\n",
       "    .dataframe thead th {\n",
       "        text-align: right;\n",
       "    }\n",
       "</style>\n",
       "<table border=\"1\" class=\"dataframe\">\n",
       "  <thead>\n",
       "    <tr style=\"text-align: right;\">\n",
       "      <th></th>\n",
       "      <th>OBJECTID</th>\n",
       "      <th>MPO</th>\n",
       "      <th>created_us</th>\n",
       "      <th>created_da</th>\n",
       "      <th>last_edite</th>\n",
       "      <th>last_edi_1</th>\n",
       "      <th>GlobalID</th>\n",
       "      <th>ShapeSTAre</th>\n",
       "      <th>ShapeSTLen</th>\n",
       "      <th>geometry</th>\n",
       "    </tr>\n",
       "  </thead>\n",
       "  <tbody>\n",
       "    <tr>\n",
       "      <th>0</th>\n",
       "      <td>2</td>\n",
       "      <td>Berkshire</td>\n",
       "      <td>None</td>\n",
       "      <td>1970-01-01</td>\n",
       "      <td>None</td>\n",
       "      <td>1970-01-01</td>\n",
       "      <td>{08FDA544-18B0-412A-B442-287E53E987F7}</td>\n",
       "      <td>2.451015e+09</td>\n",
       "      <td>2.471530e+05</td>\n",
       "      <td>POLYGON ((-8128884.676 5272654.345, -8128962.2...</td>\n",
       "    </tr>\n",
       "    <tr>\n",
       "      <th>1</th>\n",
       "      <td>3</td>\n",
       "      <td>Cape Cod</td>\n",
       "      <td>None</td>\n",
       "      <td>1970-01-01</td>\n",
       "      <td>None</td>\n",
       "      <td>1970-01-01</td>\n",
       "      <td>{B6CD90CF-2F7D-43F2-B251-FA7F8E00EF01}</td>\n",
       "      <td>1.067067e+09</td>\n",
       "      <td>1.288227e+06</td>\n",
       "      <td>MULTIPOLYGON (((-7813968.781 5173329.197, -781...</td>\n",
       "    </tr>\n",
       "    <tr>\n",
       "      <th>2</th>\n",
       "      <td>4</td>\n",
       "      <td>Central Massachusetts</td>\n",
       "      <td>None</td>\n",
       "      <td>1970-01-01</td>\n",
       "      <td>None</td>\n",
       "      <td>1970-01-01</td>\n",
       "      <td>{CC777E14-53C8-42AD-B421-71444DA0BB60}</td>\n",
       "      <td>2.487546e+09</td>\n",
       "      <td>2.683265e+05</td>\n",
       "      <td>POLYGON ((-7977225.352 5223837.273, -7973861.8...</td>\n",
       "    </tr>\n",
       "    <tr>\n",
       "      <th>3</th>\n",
       "      <td>5</td>\n",
       "      <td>Franklin</td>\n",
       "      <td>None</td>\n",
       "      <td>1970-01-01</td>\n",
       "      <td>None</td>\n",
       "      <td>1970-01-01</td>\n",
       "      <td>{4804E708-6B89-4A85-9383-BD91F7589981}</td>\n",
       "      <td>1.876456e+09</td>\n",
       "      <td>2.527017e+05</td>\n",
       "      <td>POLYGON ((-8046511.241 5269691.856, -8045276.8...</td>\n",
       "    </tr>\n",
       "    <tr>\n",
       "      <th>4</th>\n",
       "      <td>6</td>\n",
       "      <td>Montachusett</td>\n",
       "      <td>None</td>\n",
       "      <td>1970-01-01</td>\n",
       "      <td>None</td>\n",
       "      <td>1970-01-01</td>\n",
       "      <td>{F315DA63-C9CF-40EE-8AA7-5ABA2E1FD528}</td>\n",
       "      <td>1.772355e+09</td>\n",
       "      <td>2.748684e+05</td>\n",
       "      <td>POLYGON ((-7976246.504 5267152.001, -7976121.9...</td>\n",
       "    </tr>\n",
       "    <tr>\n",
       "      <th>5</th>\n",
       "      <td>7</td>\n",
       "      <td>Martha's Vineyard</td>\n",
       "      <td>None</td>\n",
       "      <td>1970-01-01</td>\n",
       "      <td>None</td>\n",
       "      <td>1970-01-01</td>\n",
       "      <td>{84077DC9-D5D1-471D-9A64-1E5748F80B92}</td>\n",
       "      <td>2.757449e+08</td>\n",
       "      <td>3.701721e+05</td>\n",
       "      <td>MULTIPOLYGON (((-7859473.886 5083806.270, -785...</td>\n",
       "    </tr>\n",
       "    <tr>\n",
       "      <th>6</th>\n",
       "      <td>8</td>\n",
       "      <td>Merrimack Valley</td>\n",
       "      <td>None</td>\n",
       "      <td>1970-01-01</td>\n",
       "      <td>None</td>\n",
       "      <td>1970-01-01</td>\n",
       "      <td>{C09CD5BA-4FE1-45DD-838E-19F2ECF618DB}</td>\n",
       "      <td>7.188680e+08</td>\n",
       "      <td>3.847121e+05</td>\n",
       "      <td>MULTIPOLYGON (((-7890949.271 5294156.354, -788...</td>\n",
       "    </tr>\n",
       "    <tr>\n",
       "      <th>7</th>\n",
       "      <td>9</td>\n",
       "      <td>Northern Middlesex</td>\n",
       "      <td>None</td>\n",
       "      <td>1970-01-01</td>\n",
       "      <td>None</td>\n",
       "      <td>1970-01-01</td>\n",
       "      <td>{5B2D231C-F8EB-4768-AB7F-F9D02B3EDBBD}</td>\n",
       "      <td>5.073539e+08</td>\n",
       "      <td>1.410283e+05</td>\n",
       "      <td>POLYGON ((-7922038.111 5250986.670, -7923186.5...</td>\n",
       "    </tr>\n",
       "    <tr>\n",
       "      <th>8</th>\n",
       "      <td>10</td>\n",
       "      <td>Nantucket</td>\n",
       "      <td>None</td>\n",
       "      <td>1970-01-01</td>\n",
       "      <td>None</td>\n",
       "      <td>1970-01-01</td>\n",
       "      <td>{633A0B7F-266B-4F07-AA30-EC320231ADAA}</td>\n",
       "      <td>1.266795e+08</td>\n",
       "      <td>1.680333e+05</td>\n",
       "      <td>MULTIPOLYGON (((-7797087.819 5069759.518, -779...</td>\n",
       "    </tr>\n",
       "    <tr>\n",
       "      <th>9</th>\n",
       "      <td>11</td>\n",
       "      <td>Pioneer Valley</td>\n",
       "      <td>None</td>\n",
       "      <td>1970-01-01</td>\n",
       "      <td>None</td>\n",
       "      <td>1970-01-01</td>\n",
       "      <td>{B01F3417-DC74-4561-AE49-935ACC6EF1FF}</td>\n",
       "      <td>3.054352e+09</td>\n",
       "      <td>3.206858e+05</td>\n",
       "      <td>POLYGON ((-8049986.018 5212603.033, -8049953.4...</td>\n",
       "    </tr>\n",
       "    <tr>\n",
       "      <th>10</th>\n",
       "      <td>12</td>\n",
       "      <td>Boston Region</td>\n",
       "      <td>None</td>\n",
       "      <td>1970-01-01</td>\n",
       "      <td>DINOCCOD</td>\n",
       "      <td>2018-04-18</td>\n",
       "      <td>{3801574E-3CF1-4344-BE7C-8B2FBA431DD8}</td>\n",
       "      <td>3.524379e+09</td>\n",
       "      <td>1.665026e+06</td>\n",
       "      <td>MULTIPOLYGON (((-7875339.226 5247387.185, -787...</td>\n",
       "    </tr>\n",
       "    <tr>\n",
       "      <th>11</th>\n",
       "      <td>13</td>\n",
       "      <td>Old Colony</td>\n",
       "      <td>None</td>\n",
       "      <td>1970-01-01</td>\n",
       "      <td>DINOCCOD</td>\n",
       "      <td>2018-04-18</td>\n",
       "      <td>{BEE05B06-8BC7-463C-9C7D-1353E32150C9}</td>\n",
       "      <td>9.938172e+08</td>\n",
       "      <td>3.368737e+05</td>\n",
       "      <td>MULTIPOLYGON (((-7909974.763 5184049.466, -790...</td>\n",
       "    </tr>\n",
       "    <tr>\n",
       "      <th>12</th>\n",
       "      <td>14</td>\n",
       "      <td>Southeastern Massachusetts</td>\n",
       "      <td>None</td>\n",
       "      <td>1970-01-01</td>\n",
       "      <td>None</td>\n",
       "      <td>1970-01-01</td>\n",
       "      <td>{AEEBDC7F-368A-402A-8D40-EC12E6040D90}</td>\n",
       "      <td>2.087314e+09</td>\n",
       "      <td>9.014607e+05</td>\n",
       "      <td>MULTIPOLYGON (((-7922461.407 5170146.823, -792...</td>\n",
       "    </tr>\n",
       "  </tbody>\n",
       "</table>\n",
       "</div>"
      ],
      "text/plain": [
       "    OBJECTID                         MPO created_us  created_da last_edite  \\\n",
       "0          2                   Berkshire       None  1970-01-01       None   \n",
       "1          3                    Cape Cod       None  1970-01-01       None   \n",
       "2          4       Central Massachusetts       None  1970-01-01       None   \n",
       "3          5                    Franklin       None  1970-01-01       None   \n",
       "4          6                Montachusett       None  1970-01-01       None   \n",
       "5          7           Martha's Vineyard       None  1970-01-01       None   \n",
       "6          8            Merrimack Valley       None  1970-01-01       None   \n",
       "7          9          Northern Middlesex       None  1970-01-01       None   \n",
       "8         10                   Nantucket       None  1970-01-01       None   \n",
       "9         11              Pioneer Valley       None  1970-01-01       None   \n",
       "10        12               Boston Region       None  1970-01-01   DINOCCOD   \n",
       "11        13                  Old Colony       None  1970-01-01   DINOCCOD   \n",
       "12        14  Southeastern Massachusetts       None  1970-01-01       None   \n",
       "\n",
       "    last_edi_1                                GlobalID    ShapeSTAre  \\\n",
       "0   1970-01-01  {08FDA544-18B0-412A-B442-287E53E987F7}  2.451015e+09   \n",
       "1   1970-01-01  {B6CD90CF-2F7D-43F2-B251-FA7F8E00EF01}  1.067067e+09   \n",
       "2   1970-01-01  {CC777E14-53C8-42AD-B421-71444DA0BB60}  2.487546e+09   \n",
       "3   1970-01-01  {4804E708-6B89-4A85-9383-BD91F7589981}  1.876456e+09   \n",
       "4   1970-01-01  {F315DA63-C9CF-40EE-8AA7-5ABA2E1FD528}  1.772355e+09   \n",
       "5   1970-01-01  {84077DC9-D5D1-471D-9A64-1E5748F80B92}  2.757449e+08   \n",
       "6   1970-01-01  {C09CD5BA-4FE1-45DD-838E-19F2ECF618DB}  7.188680e+08   \n",
       "7   1970-01-01  {5B2D231C-F8EB-4768-AB7F-F9D02B3EDBBD}  5.073539e+08   \n",
       "8   1970-01-01  {633A0B7F-266B-4F07-AA30-EC320231ADAA}  1.266795e+08   \n",
       "9   1970-01-01  {B01F3417-DC74-4561-AE49-935ACC6EF1FF}  3.054352e+09   \n",
       "10  2018-04-18  {3801574E-3CF1-4344-BE7C-8B2FBA431DD8}  3.524379e+09   \n",
       "11  2018-04-18  {BEE05B06-8BC7-463C-9C7D-1353E32150C9}  9.938172e+08   \n",
       "12  1970-01-01  {AEEBDC7F-368A-402A-8D40-EC12E6040D90}  2.087314e+09   \n",
       "\n",
       "      ShapeSTLen                                           geometry  \n",
       "0   2.471530e+05  POLYGON ((-8128884.676 5272654.345, -8128962.2...  \n",
       "1   1.288227e+06  MULTIPOLYGON (((-7813968.781 5173329.197, -781...  \n",
       "2   2.683265e+05  POLYGON ((-7977225.352 5223837.273, -7973861.8...  \n",
       "3   2.527017e+05  POLYGON ((-8046511.241 5269691.856, -8045276.8...  \n",
       "4   2.748684e+05  POLYGON ((-7976246.504 5267152.001, -7976121.9...  \n",
       "5   3.701721e+05  MULTIPOLYGON (((-7859473.886 5083806.270, -785...  \n",
       "6   3.847121e+05  MULTIPOLYGON (((-7890949.271 5294156.354, -788...  \n",
       "7   1.410283e+05  POLYGON ((-7922038.111 5250986.670, -7923186.5...  \n",
       "8   1.680333e+05  MULTIPOLYGON (((-7797087.819 5069759.518, -779...  \n",
       "9   3.206858e+05  POLYGON ((-8049986.018 5212603.033, -8049953.4...  \n",
       "10  1.665026e+06  MULTIPOLYGON (((-7875339.226 5247387.185, -787...  \n",
       "11  3.368737e+05  MULTIPOLYGON (((-7909974.763 5184049.466, -790...  \n",
       "12  9.014607e+05  MULTIPOLYGON (((-7922461.407 5170146.823, -792...  "
      ]
     },
     "execution_count": 4,
     "metadata": {},
     "output_type": "execute_result"
    }
   ],
   "source": [
    "Boundaries"
   ]
  },
  {
   "cell_type": "code",
   "execution_count": 5,
   "id": "d604b3fa-3049-4cc8-a73f-42a978e7f082",
   "metadata": {},
   "outputs": [
    {
     "data": {
      "image/png": "[encoded data removed]",
      "text/plain": [
       "<Figure size 432x288 with 1 Axes>"
      ]
     },
     "metadata": {
      "needs_background": "light"
     },
     "output_type": "display_data"
    }
   ],
   "source": [
    "Boundaries.plot()\n",
    "plt.show()"
   ]
  },
  {
   "cell_type": "code",
   "execution_count": 6,
   "id": "573641ad-6013-48c7-b752-5874511c0120",
   "metadata": {},
   "outputs": [],
   "source": [
    "#Extract all ZCTAs that are within the study area\n",
    "#Read in MA outline\n",
    "Outline = gpd.read_file('Data/MA_Outlines/OUTLINE25K_POLY.shp')"
   ]
  },
  {
   "cell_type": "code",
   "execution_count": 7,
   "id": "0b309805-af7d-4e64-8ed2-f90d29d49849",
   "metadata": {},
   "outputs": [
    {
     "data": {
      "text/html": [
       "<div>\n",
       "<style scoped>\n",
       "    .dataframe tbody tr th:only-of-type {\n",
       "        vertical-align: middle;\n",
       "    }\n",
       "\n",
       "    .dataframe tbody tr th {\n",
       "        vertical-align: top;\n",
       "    }\n",
       "\n",
       "    .dataframe thead th {\n",
       "        text-align: right;\n",
       "    }\n",
       "</style>\n",
       "<table border=\"1\" class=\"dataframe\">\n",
       "  <thead>\n",
       "    <tr style=\"text-align: right;\">\n",
       "      <th></th>\n",
       "      <th>AREA_ACRES</th>\n",
       "      <th>OBJECTID</th>\n",
       "      <th>SHAPE_AREA</th>\n",
       "      <th>SHAPE_LEN</th>\n",
       "      <th>geometry</th>\n",
       "    </tr>\n",
       "  </thead>\n",
       "  <tbody>\n",
       "    <tr>\n",
       "      <th>0</th>\n",
       "      <td>4.794042e+06</td>\n",
       "      <td>1</td>\n",
       "      <td>1.940080e+10</td>\n",
       "      <td>2.457234e+06</td>\n",
       "      <td>POLYGON ((262720.970 931706.880, 262726.090 93...</td>\n",
       "    </tr>\n",
       "    <tr>\n",
       "      <th>1</th>\n",
       "      <td>6.400000e-02</td>\n",
       "      <td>2</td>\n",
       "      <td>2.589837e+02</td>\n",
       "      <td>6.441277e+01</td>\n",
       "      <td>POLYGON ((247826.580 955016.130, 247812.530 95...</td>\n",
       "    </tr>\n",
       "    <tr>\n",
       "      <th>2</th>\n",
       "      <td>1.756000e-01</td>\n",
       "      <td>3</td>\n",
       "      <td>7.104337e+02</td>\n",
       "      <td>1.160627e+02</td>\n",
       "      <td>POLYGON ((249219.860 954550.130, 249209.020 95...</td>\n",
       "    </tr>\n",
       "    <tr>\n",
       "      <th>3</th>\n",
       "      <td>4.402800e+00</td>\n",
       "      <td>4</td>\n",
       "      <td>1.781757e+04</td>\n",
       "      <td>6.075335e+02</td>\n",
       "      <td>POLYGON ((248952.170 954025.880, 248958.480 95...</td>\n",
       "    </tr>\n",
       "    <tr>\n",
       "      <th>4</th>\n",
       "      <td>6.554800e+00</td>\n",
       "      <td>5</td>\n",
       "      <td>2.652649e+04</td>\n",
       "      <td>7.402520e+02</td>\n",
       "      <td>POLYGON ((248624.580 953915.130, 248580.140 95...</td>\n",
       "    </tr>\n",
       "    <tr>\n",
       "      <th>...</th>\n",
       "      <td>...</td>\n",
       "      <td>...</td>\n",
       "      <td>...</td>\n",
       "      <td>...</td>\n",
       "      <td>...</td>\n",
       "    </tr>\n",
       "    <tr>\n",
       "      <th>913</th>\n",
       "      <td>1.546410e+01</td>\n",
       "      <td>909</td>\n",
       "      <td>6.258092e+04</td>\n",
       "      <td>2.040354e+03</td>\n",
       "      <td>POLYGON ((300297.910 787312.190, 300309.660 78...</td>\n",
       "    </tr>\n",
       "    <tr>\n",
       "      <th>914</th>\n",
       "      <td>9.980571e+02</td>\n",
       "      <td>910</td>\n",
       "      <td>4.038993e+06</td>\n",
       "      <td>1.612254e+04</td>\n",
       "      <td>POLYGON ((304728.970 784910.810, 304737.380 78...</td>\n",
       "    </tr>\n",
       "    <tr>\n",
       "      <th>915</th>\n",
       "      <td>1.028706e+02</td>\n",
       "      <td>912</td>\n",
       "      <td>4.163025e+05</td>\n",
       "      <td>3.924734e+03</td>\n",
       "      <td>POLYGON ((307457.000 781867.940, 307466.560 78...</td>\n",
       "    </tr>\n",
       "    <tr>\n",
       "      <th>916</th>\n",
       "      <td>6.175377e+02</td>\n",
       "      <td>914</td>\n",
       "      <td>2.499086e+06</td>\n",
       "      <td>7.740494e+03</td>\n",
       "      <td>POLYGON ((257218.250 779297.880, 257223.020 77...</td>\n",
       "    </tr>\n",
       "    <tr>\n",
       "      <th>917</th>\n",
       "      <td>3.035000e-01</td>\n",
       "      <td>918</td>\n",
       "      <td>1.228235e+03</td>\n",
       "      <td>1.828018e+02</td>\n",
       "      <td>POLYGON ((256614.770 778306.630, 256624.940 77...</td>\n",
       "    </tr>\n",
       "  </tbody>\n",
       "</table>\n",
       "<p>918 rows × 5 columns</p>\n",
       "</div>"
      ],
      "text/plain": [
       "       AREA_ACRES  OBJECTID    SHAPE_AREA     SHAPE_LEN  \\\n",
       "0    4.794042e+06         1  1.940080e+10  2.457234e+06   \n",
       "1    6.400000e-02         2  2.589837e+02  6.441277e+01   \n",
       "2    1.756000e-01         3  7.104337e+02  1.160627e+02   \n",
       "3    4.402800e+00         4  1.781757e+04  6.075335e+02   \n",
       "4    6.554800e+00         5  2.652649e+04  7.402520e+02   \n",
       "..            ...       ...           ...           ...   \n",
       "913  1.546410e+01       909  6.258092e+04  2.040354e+03   \n",
       "914  9.980571e+02       910  4.038993e+06  1.612254e+04   \n",
       "915  1.028706e+02       912  4.163025e+05  3.924734e+03   \n",
       "916  6.175377e+02       914  2.499086e+06  7.740494e+03   \n",
       "917  3.035000e-01       918  1.228235e+03  1.828018e+02   \n",
       "\n",
       "                                              geometry  \n",
       "0    POLYGON ((262720.970 931706.880, 262726.090 93...  \n",
       "1    POLYGON ((247826.580 955016.130, 247812.530 95...  \n",
       "2    POLYGON ((249219.860 954550.130, 249209.020 95...  \n",
       "3    POLYGON ((248952.170 954025.880, 248958.480 95...  \n",
       "4    POLYGON ((248624.580 953915.130, 248580.140 95...  \n",
       "..                                                 ...  \n",
       "913  POLYGON ((300297.910 787312.190, 300309.660 78...  \n",
       "914  POLYGON ((304728.970 784910.810, 304737.380 78...  \n",
       "915  POLYGON ((307457.000 781867.940, 307466.560 78...  \n",
       "916  POLYGON ((257218.250 779297.880, 257223.020 77...  \n",
       "917  POLYGON ((256614.770 778306.630, 256624.940 77...  \n",
       "\n",
       "[918 rows x 5 columns]"
      ]
     },
     "execution_count": 7,
     "metadata": {},
     "output_type": "execute_result"
    }
   ],
   "source": [
    "Outline"
   ]
  },
  {
   "cell_type": "code",
   "execution_count": 8,
   "id": "9cc19747-8ef5-4f10-bf9e-14d95e8689f7",
   "metadata": {},
   "outputs": [],
   "source": [
    "#Read in ZCTAs\n",
    "ZCTA = gpd.read_file('Data/ZCTA/tl_2010_25_zcta510.shp')"
   ]
  },
  {
   "cell_type": "code",
   "execution_count": 9,
   "id": "9ba3283f-b3e9-4d75-8cb4-86a9c22069ff",
   "metadata": {},
   "outputs": [
    {
     "data": {
      "text/html": [
       "<div>\n",
       "<style scoped>\n",
       "    .dataframe tbody tr th:only-of-type {\n",
       "        vertical-align: middle;\n",
       "    }\n",
       "\n",
       "    .dataframe tbody tr th {\n",
       "        vertical-align: top;\n",
       "    }\n",
       "\n",
       "    .dataframe thead th {\n",
       "        text-align: right;\n",
       "    }\n",
       "</style>\n",
       "<table border=\"1\" class=\"dataframe\">\n",
       "  <thead>\n",
       "    <tr style=\"text-align: right;\">\n",
       "      <th></th>\n",
       "      <th>STATEFP10</th>\n",
       "      <th>ZCTA5CE10</th>\n",
       "      <th>GEOID10</th>\n",
       "      <th>CLASSFP10</th>\n",
       "      <th>MTFCC10</th>\n",
       "      <th>FUNCSTAT10</th>\n",
       "      <th>ALAND10</th>\n",
       "      <th>AWATER10</th>\n",
       "      <th>INTPTLAT10</th>\n",
       "      <th>INTPTLON10</th>\n",
       "      <th>PARTFLG10</th>\n",
       "      <th>geometry</th>\n",
       "    </tr>\n",
       "  </thead>\n",
       "  <tbody>\n",
       "    <tr>\n",
       "      <th>0</th>\n",
       "      <td>25</td>\n",
       "      <td>02536</td>\n",
       "      <td>2502536</td>\n",
       "      <td>B5</td>\n",
       "      <td>G6350</td>\n",
       "      <td>S</td>\n",
       "      <td>71696166</td>\n",
       "      <td>9066635</td>\n",
       "      <td>+41.5969756</td>\n",
       "      <td>-070.5678768</td>\n",
       "      <td>N</td>\n",
       "      <td>POLYGON ((-70.59239 41.56006, -70.59268 41.559...</td>\n",
       "    </tr>\n",
       "    <tr>\n",
       "      <th>1</th>\n",
       "      <td>25</td>\n",
       "      <td>02556</td>\n",
       "      <td>2502556</td>\n",
       "      <td>B5</td>\n",
       "      <td>G6350</td>\n",
       "      <td>S</td>\n",
       "      <td>10034104</td>\n",
       "      <td>1164445</td>\n",
       "      <td>+41.6394454</td>\n",
       "      <td>-070.6245149</td>\n",
       "      <td>N</td>\n",
       "      <td>POLYGON ((-70.62389 41.61673, -70.62633 41.617...</td>\n",
       "    </tr>\n",
       "    <tr>\n",
       "      <th>2</th>\n",
       "      <td>25</td>\n",
       "      <td>02540</td>\n",
       "      <td>2502540</td>\n",
       "      <td>B5</td>\n",
       "      <td>G6350</td>\n",
       "      <td>S</td>\n",
       "      <td>27746696</td>\n",
       "      <td>4550024</td>\n",
       "      <td>+41.5741900</td>\n",
       "      <td>-070.6282848</td>\n",
       "      <td>N</td>\n",
       "      <td>POLYGON ((-70.62389 41.61673, -70.62262 41.616...</td>\n",
       "    </tr>\n",
       "    <tr>\n",
       "      <th>3</th>\n",
       "      <td>25</td>\n",
       "      <td>02646</td>\n",
       "      <td>2502646</td>\n",
       "      <td>B5</td>\n",
       "      <td>G6350</td>\n",
       "      <td>S</td>\n",
       "      <td>7798581</td>\n",
       "      <td>801405</td>\n",
       "      <td>+41.6705961</td>\n",
       "      <td>-070.0714493</td>\n",
       "      <td>N</td>\n",
       "      <td>POLYGON ((-70.07925 41.67769, -70.07864 41.677...</td>\n",
       "    </tr>\n",
       "    <tr>\n",
       "      <th>4</th>\n",
       "      <td>25</td>\n",
       "      <td>01237</td>\n",
       "      <td>2501237</td>\n",
       "      <td>B5</td>\n",
       "      <td>G6350</td>\n",
       "      <td>S</td>\n",
       "      <td>160121626</td>\n",
       "      <td>1140685</td>\n",
       "      <td>+42.5478177</td>\n",
       "      <td>-073.2680327</td>\n",
       "      <td>N</td>\n",
       "      <td>POLYGON ((-73.23558 42.49333, -73.23587 42.493...</td>\n",
       "    </tr>\n",
       "    <tr>\n",
       "      <th>...</th>\n",
       "      <td>...</td>\n",
       "      <td>...</td>\n",
       "      <td>...</td>\n",
       "      <td>...</td>\n",
       "      <td>...</td>\n",
       "      <td>...</td>\n",
       "      <td>...</td>\n",
       "      <td>...</td>\n",
       "      <td>...</td>\n",
       "      <td>...</td>\n",
       "      <td>...</td>\n",
       "      <td>...</td>\n",
       "    </tr>\n",
       "    <tr>\n",
       "      <th>533</th>\n",
       "      <td>25</td>\n",
       "      <td>01537</td>\n",
       "      <td>2501537</td>\n",
       "      <td>B5</td>\n",
       "      <td>G6350</td>\n",
       "      <td>S</td>\n",
       "      <td>18085937</td>\n",
       "      <td>295745</td>\n",
       "      <td>+42.1589660</td>\n",
       "      <td>-071.8970514</td>\n",
       "      <td>N</td>\n",
       "      <td>POLYGON ((-71.89793 42.18884, -71.89791 42.188...</td>\n",
       "    </tr>\n",
       "    <tr>\n",
       "      <th>534</th>\n",
       "      <td>25</td>\n",
       "      <td>01503</td>\n",
       "      <td>2501503</td>\n",
       "      <td>B5</td>\n",
       "      <td>G6350</td>\n",
       "      <td>S</td>\n",
       "      <td>33598202</td>\n",
       "      <td>523984</td>\n",
       "      <td>+42.3849290</td>\n",
       "      <td>-071.6338895</td>\n",
       "      <td>N</td>\n",
       "      <td>POLYGON ((-71.58830 42.38197, -71.58961 42.381...</td>\n",
       "    </tr>\n",
       "    <tr>\n",
       "      <th>535</th>\n",
       "      <td>25</td>\n",
       "      <td>01452</td>\n",
       "      <td>2501452</td>\n",
       "      <td>B5</td>\n",
       "      <td>G6350</td>\n",
       "      <td>S</td>\n",
       "      <td>106373488</td>\n",
       "      <td>2406515</td>\n",
       "      <td>+42.4895983</td>\n",
       "      <td>-072.0028783</td>\n",
       "      <td>N</td>\n",
       "      <td>POLYGON ((-72.04222 42.44499, -72.04371 42.446...</td>\n",
       "    </tr>\n",
       "    <tr>\n",
       "      <th>536</th>\n",
       "      <td>25</td>\n",
       "      <td>01571</td>\n",
       "      <td>2501571</td>\n",
       "      <td>B5</td>\n",
       "      <td>G6350</td>\n",
       "      <td>S</td>\n",
       "      <td>53915863</td>\n",
       "      <td>2717076</td>\n",
       "      <td>+42.0537777</td>\n",
       "      <td>-071.9350751</td>\n",
       "      <td>N</td>\n",
       "      <td>POLYGON ((-71.93992 42.02558, -71.94414 42.025...</td>\n",
       "    </tr>\n",
       "    <tr>\n",
       "      <th>537</th>\n",
       "      <td>25</td>\n",
       "      <td>01468</td>\n",
       "      <td>2501468</td>\n",
       "      <td>B5</td>\n",
       "      <td>G6350</td>\n",
       "      <td>S</td>\n",
       "      <td>55425624</td>\n",
       "      <td>688465</td>\n",
       "      <td>+42.5427668</td>\n",
       "      <td>-072.0683447</td>\n",
       "      <td>N</td>\n",
       "      <td>POLYGON ((-72.07856 42.58179, -72.07848 42.582...</td>\n",
       "    </tr>\n",
       "  </tbody>\n",
       "</table>\n",
       "<p>538 rows × 12 columns</p>\n",
       "</div>"
      ],
      "text/plain": [
       "    STATEFP10 ZCTA5CE10  GEOID10 CLASSFP10 MTFCC10 FUNCSTAT10    ALAND10  \\\n",
       "0          25     02536  2502536        B5   G6350          S   71696166   \n",
       "1          25     02556  2502556        B5   G6350          S   10034104   \n",
       "2          25     02540  2502540        B5   G6350          S   27746696   \n",
       "3          25     02646  2502646        B5   G6350          S    7798581   \n",
       "4          25     01237  2501237        B5   G6350          S  160121626   \n",
       "..        ...       ...      ...       ...     ...        ...        ...   \n",
       "533        25     01537  2501537        B5   G6350          S   18085937   \n",
       "534        25     01503  2501503        B5   G6350          S   33598202   \n",
       "535        25     01452  2501452        B5   G6350          S  106373488   \n",
       "536        25     01571  2501571        B5   G6350          S   53915863   \n",
       "537        25     01468  2501468        B5   G6350          S   55425624   \n",
       "\n",
       "     AWATER10   INTPTLAT10    INTPTLON10 PARTFLG10  \\\n",
       "0     9066635  +41.5969756  -070.5678768         N   \n",
       "1     1164445  +41.6394454  -070.6245149         N   \n",
       "2     4550024  +41.5741900  -070.6282848         N   \n",
       "3      801405  +41.6705961  -070.0714493         N   \n",
       "4     1140685  +42.5478177  -073.2680327         N   \n",
       "..        ...          ...           ...       ...   \n",
       "533    295745  +42.1589660  -071.8970514         N   \n",
       "534    523984  +42.3849290  -071.6338895         N   \n",
       "535   2406515  +42.4895983  -072.0028783         N   \n",
       "536   2717076  +42.0537777  -071.9350751         N   \n",
       "537    688465  +42.5427668  -072.0683447         N   \n",
       "\n",
       "                                              geometry  \n",
       "0    POLYGON ((-70.59239 41.56006, -70.59268 41.559...  \n",
       "1    POLYGON ((-70.62389 41.61673, -70.62633 41.617...  \n",
       "2    POLYGON ((-70.62389 41.61673, -70.62262 41.616...  \n",
       "3    POLYGON ((-70.07925 41.67769, -70.07864 41.677...  \n",
       "4    POLYGON ((-73.23558 42.49333, -73.23587 42.493...  \n",
       "..                                                 ...  \n",
       "533  POLYGON ((-71.89793 42.18884, -71.89791 42.188...  \n",
       "534  POLYGON ((-71.58830 42.38197, -71.58961 42.381...  \n",
       "535  POLYGON ((-72.04222 42.44499, -72.04371 42.446...  \n",
       "536  POLYGON ((-71.93992 42.02558, -71.94414 42.025...  \n",
       "537  POLYGON ((-72.07856 42.58179, -72.07848 42.582...  \n",
       "\n",
       "[538 rows x 12 columns]"
      ]
     },
     "execution_count": 9,
     "metadata": {},
     "output_type": "execute_result"
    }
   ],
   "source": [
    "ZCTA"
   ]
  },
  {
   "cell_type": "code",
   "execution_count": 10,
   "id": "3217aa18-2ce6-4f2a-bc23-3f2ffcdd8356",
   "metadata": {},
   "outputs": [
    {
     "data": {
      "text/plain": [
       "False"
      ]
     },
     "execution_count": 10,
     "metadata": {},
     "output_type": "execute_result"
    }
   ],
   "source": [
    "#We will clip Outline and ZCTA \n",
    "#Check for projection\n",
    "Outline.crs == ZCTA.crs"
   ]
  },
  {
   "cell_type": "code",
   "execution_count": 11,
   "id": "8948839d-92f4-4470-af91-25c8c09d1038",
   "metadata": {},
   "outputs": [
    {
     "data": {
      "text/plain": [
       "<Projected CRS: EPSG:26986>\n",
       "Name: NAD83 / Massachusetts Mainland\n",
       "Axis Info [cartesian]:\n",
       "- X[east]: Easting (metre)\n",
       "- Y[north]: Northing (metre)\n",
       "Area of Use:\n",
       "- name: United States (USA) - Massachusetts onshore - counties of Barnstable; Berkshire; Bristol; Essex; Franklin; Hampden; Hampshire; Middlesex; Norfolk; Plymouth; Suffolk; Worcester.\n",
       "- bounds: (-73.5, 41.46, -69.86, 42.89)\n",
       "Coordinate Operation:\n",
       "- name: SPCS83 Massachusetts Mainland zone (meters)\n",
       "- method: Lambert Conic Conformal (2SP)\n",
       "Datum: North American Datum 1983\n",
       "- Ellipsoid: GRS 1980\n",
       "- Prime Meridian: Greenwich"
      ]
     },
     "execution_count": 11,
     "metadata": {},
     "output_type": "execute_result"
    }
   ],
   "source": [
    "Outline.crs"
   ]
  },
  {
   "cell_type": "code",
   "execution_count": 12,
   "id": "3d75f83d-d5d1-45e0-a4cb-90b3b44f33ee",
   "metadata": {},
   "outputs": [
    {
     "data": {
      "text/plain": [
       "<Geographic 2D CRS: EPSG:4269>\n",
       "Name: NAD83\n",
       "Axis Info [ellipsoidal]:\n",
       "- Lat[north]: Geodetic latitude (degree)\n",
       "- Lon[east]: Geodetic longitude (degree)\n",
       "Area of Use:\n",
       "- name: North America - onshore and offshore: Canada - Alberta; British Columbia; Manitoba; New Brunswick; Newfoundland and Labrador; Northwest Territories; Nova Scotia; Nunavut; Ontario; Prince Edward Island; Quebec; Saskatchewan; Yukon. Puerto Rico. United States (USA) - Alabama; Alaska; Arizona; Arkansas; California; Colorado; Connecticut; Delaware; Florida; Georgia; Hawaii; Idaho; Illinois; Indiana; Iowa; Kansas; Kentucky; Louisiana; Maine; Maryland; Massachusetts; Michigan; Minnesota; Mississippi; Missouri; Montana; Nebraska; Nevada; New Hampshire; New Jersey; New Mexico; New York; North Carolina; North Dakota; Ohio; Oklahoma; Oregon; Pennsylvania; Rhode Island; South Carolina; South Dakota; Tennessee; Texas; Utah; Vermont; Virginia; Washington; West Virginia; Wisconsin; Wyoming. US Virgin Islands. British Virgin Islands.\n",
       "- bounds: (167.65071105957, 14.928194130078, -47.743430543984, 86.453745196084)\n",
       "Datum: North American Datum 1983\n",
       "- Ellipsoid: GRS 1980\n",
       "- Prime Meridian: Greenwich"
      ]
     },
     "execution_count": 12,
     "metadata": {},
     "output_type": "execute_result"
    }
   ],
   "source": [
    "ZCTA.crs"
   ]
  },
  {
   "cell_type": "code",
   "execution_count": 13,
   "id": "5019a43d-2953-4e7f-9258-c8cc36decba0",
   "metadata": {},
   "outputs": [],
   "source": [
    "#Change projection\n",
    "ZCTA = ZCTA.to_crs(\"EPSG:26986\")"
   ]
  },
  {
   "cell_type": "code",
   "execution_count": 14,
   "id": "86871e97-a99f-4cdd-a4e7-f0f5ab15c35d",
   "metadata": {},
   "outputs": [
    {
     "data": {
      "text/plain": [
       "True"
      ]
     },
     "execution_count": 14,
     "metadata": {},
     "output_type": "execute_result"
    }
   ],
   "source": [
    "Outline.crs == ZCTA.crs"
   ]
  },
  {
   "cell_type": "code",
   "execution_count": 15,
   "id": "f6e03cff-bf36-4763-8f7f-2a7adcb3cf61",
   "metadata": {},
   "outputs": [],
   "source": [
    "#Clip\n",
    "ZCTA_Outline = gpd.clip(ZCTA,Outline)"
   ]
  },
  {
   "cell_type": "code",
   "execution_count": 16,
   "id": "b3915b7b-4628-4b85-982d-376d047cc40c",
   "metadata": {},
   "outputs": [
    {
     "data": {
      "text/plain": [
       "False"
      ]
     },
     "execution_count": 16,
     "metadata": {},
     "output_type": "execute_result"
    }
   ],
   "source": [
    "# Extract ZCTA whose centroids are within study area\n",
    "#Check for projection\n",
    "ZCTA_Outline.crs == Boundaries.crs"
   ]
  },
  {
   "cell_type": "code",
   "execution_count": 17,
   "id": "a4b4d2ca-6b30-4816-b3c7-d5e13ca02d73",
   "metadata": {},
   "outputs": [
    {
     "data": {
      "text/plain": [
       "<Projected CRS: EPSG:3857>\n",
       "Name: WGS 84 / Pseudo-Mercator\n",
       "Axis Info [cartesian]:\n",
       "- X[east]: Easting (metre)\n",
       "- Y[north]: Northing (metre)\n",
       "Area of Use:\n",
       "- name: World between 85.06°S and 85.06°N.\n",
       "- bounds: (-180.0, -85.06, 180.0, 85.06)\n",
       "Coordinate Operation:\n",
       "- name: Popular Visualisation Pseudo-Mercator\n",
       "- method: Popular Visualisation Pseudo Mercator\n",
       "Datum: World Geodetic System 1984 ensemble\n",
       "- Ellipsoid: WGS 84\n",
       "- Prime Meridian: Greenwich"
      ]
     },
     "execution_count": 17,
     "metadata": {},
     "output_type": "execute_result"
    }
   ],
   "source": [
    "Boundaries.crs"
   ]
  },
  {
   "cell_type": "code",
   "execution_count": 18,
   "id": "b6eea9e3-8017-418e-aa9d-0a236d39123d",
   "metadata": {},
   "outputs": [],
   "source": [
    "#Change projection\n",
    "ZCTA_U=ZCTA_Outline.to_crs(\"EPSG:3857\")"
   ]
  },
  {
   "cell_type": "code",
   "execution_count": 19,
   "id": "32060174-3d1e-4b2e-ba40-63bd5158dcc8",
   "metadata": {},
   "outputs": [
    {
     "data": {
      "text/plain": [
       "True"
      ]
     },
     "execution_count": 19,
     "metadata": {},
     "output_type": "execute_result"
    }
   ],
   "source": [
    "ZCTA_U.crs == Boundaries.crs"
   ]
  },
  {
   "cell_type": "code",
   "execution_count": 20,
   "id": "12991f13-3fa2-4962-b1b4-dabf29c3339a",
   "metadata": {},
   "outputs": [],
   "source": [
    "# Extract all the ZCTAs whose centroid is within the Boston Region MPO boundary.\n",
    "zcta_boston = ZCTA_U[ZCTA_U.centroid.within(Boundaries['geometry'][10])]"
   ]
  },
  {
   "cell_type": "code",
   "execution_count": 21,
   "id": "744d174a-c3c5-4ad5-ac88-7c8b291c8ba5",
   "metadata": {},
   "outputs": [
    {
     "data": {
      "text/html": [
       "<div>\n",
       "<style scoped>\n",
       "    .dataframe tbody tr th:only-of-type {\n",
       "        vertical-align: middle;\n",
       "    }\n",
       "\n",
       "    .dataframe tbody tr th {\n",
       "        vertical-align: top;\n",
       "    }\n",
       "\n",
       "    .dataframe thead th {\n",
       "        text-align: right;\n",
       "    }\n",
       "</style>\n",
       "<table border=\"1\" class=\"dataframe\">\n",
       "  <thead>\n",
       "    <tr style=\"text-align: right;\">\n",
       "      <th></th>\n",
       "      <th>STATEFP10</th>\n",
       "      <th>ZCTA5CE10</th>\n",
       "      <th>GEOID10</th>\n",
       "      <th>CLASSFP10</th>\n",
       "      <th>MTFCC10</th>\n",
       "      <th>FUNCSTAT10</th>\n",
       "      <th>ALAND10</th>\n",
       "      <th>AWATER10</th>\n",
       "      <th>INTPTLAT10</th>\n",
       "      <th>INTPTLON10</th>\n",
       "      <th>PARTFLG10</th>\n",
       "      <th>geometry</th>\n",
       "    </tr>\n",
       "  </thead>\n",
       "  <tbody>\n",
       "    <tr>\n",
       "      <th>17</th>\n",
       "      <td>25</td>\n",
       "      <td>01905</td>\n",
       "      <td>2501905</td>\n",
       "      <td>B5</td>\n",
       "      <td>G6350</td>\n",
       "      <td>S</td>\n",
       "      <td>9219345</td>\n",
       "      <td>1195154</td>\n",
       "      <td>+42.4659985</td>\n",
       "      <td>-070.9757922</td>\n",
       "      <td>N</td>\n",
       "      <td>MULTIPOLYGON (((-7899944.411 5232206.578, -789...</td>\n",
       "    </tr>\n",
       "    <tr>\n",
       "      <th>18</th>\n",
       "      <td>25</td>\n",
       "      <td>01904</td>\n",
       "      <td>2501904</td>\n",
       "      <td>B5</td>\n",
       "      <td>G6350</td>\n",
       "      <td>S</td>\n",
       "      <td>11708211</td>\n",
       "      <td>1303900</td>\n",
       "      <td>+42.4924563</td>\n",
       "      <td>-070.9739297</td>\n",
       "      <td>N</td>\n",
       "      <td>POLYGON ((-7897468.553 5233487.096, -7897513.7...</td>\n",
       "    </tr>\n",
       "    <tr>\n",
       "      <th>21</th>\n",
       "      <td>25</td>\n",
       "      <td>01915</td>\n",
       "      <td>2501915</td>\n",
       "      <td>B5</td>\n",
       "      <td>G6350</td>\n",
       "      <td>S</td>\n",
       "      <td>39091336</td>\n",
       "      <td>3958118</td>\n",
       "      <td>+42.5702688</td>\n",
       "      <td>-070.8669962</td>\n",
       "      <td>N</td>\n",
       "      <td>MULTIPOLYGON (((-7890462.043 5249910.060, -788...</td>\n",
       "    </tr>\n",
       "    <tr>\n",
       "      <th>35</th>\n",
       "      <td>25</td>\n",
       "      <td>02462</td>\n",
       "      <td>2502462</td>\n",
       "      <td>B5</td>\n",
       "      <td>G6350</td>\n",
       "      <td>S</td>\n",
       "      <td>1369318</td>\n",
       "      <td>69749</td>\n",
       "      <td>+42.3287076</td>\n",
       "      <td>-071.2559002</td>\n",
       "      <td>N</td>\n",
       "      <td>MULTIPOLYGON (((-7929552.593 5209938.258, -792...</td>\n",
       "    </tr>\n",
       "    <tr>\n",
       "      <th>37</th>\n",
       "      <td>25</td>\n",
       "      <td>01760</td>\n",
       "      <td>2501760</td>\n",
       "      <td>B5</td>\n",
       "      <td>G6350</td>\n",
       "      <td>S</td>\n",
       "      <td>38359306</td>\n",
       "      <td>2599042</td>\n",
       "      <td>+42.2848223</td>\n",
       "      <td>-071.3488109</td>\n",
       "      <td>N</td>\n",
       "      <td>POLYGON ((-7948367.918 5204315.595, -7948371.4...</td>\n",
       "    </tr>\n",
       "    <tr>\n",
       "      <th>...</th>\n",
       "      <td>...</td>\n",
       "      <td>...</td>\n",
       "      <td>...</td>\n",
       "      <td>...</td>\n",
       "      <td>...</td>\n",
       "      <td>...</td>\n",
       "      <td>...</td>\n",
       "      <td>...</td>\n",
       "      <td>...</td>\n",
       "      <td>...</td>\n",
       "      <td>...</td>\n",
       "      <td>...</td>\n",
       "    </tr>\n",
       "    <tr>\n",
       "      <th>524</th>\n",
       "      <td>25</td>\n",
       "      <td>02343</td>\n",
       "      <td>2502343</td>\n",
       "      <td>B5</td>\n",
       "      <td>G6350</td>\n",
       "      <td>S</td>\n",
       "      <td>18146751</td>\n",
       "      <td>280250</td>\n",
       "      <td>+42.1489129</td>\n",
       "      <td>-071.0037371</td>\n",
       "      <td>N</td>\n",
       "      <td>POLYGON ((-7901321.179 5183869.703, -7901334.9...</td>\n",
       "    </tr>\n",
       "    <tr>\n",
       "      <th>526</th>\n",
       "      <td>25</td>\n",
       "      <td>02129</td>\n",
       "      <td>2502129</td>\n",
       "      <td>B5</td>\n",
       "      <td>G6350</td>\n",
       "      <td>S</td>\n",
       "      <td>3492181</td>\n",
       "      <td>1266666</td>\n",
       "      <td>+42.3796570</td>\n",
       "      <td>-071.0614875</td>\n",
       "      <td>N</td>\n",
       "      <td>MULTIPOLYGON (((-7911523.459 5216922.381, -791...</td>\n",
       "    </tr>\n",
       "    <tr>\n",
       "      <th>527</th>\n",
       "      <td>25</td>\n",
       "      <td>02128</td>\n",
       "      <td>2502128</td>\n",
       "      <td>B5</td>\n",
       "      <td>G6350</td>\n",
       "      <td>S</td>\n",
       "      <td>12561059</td>\n",
       "      <td>2952872</td>\n",
       "      <td>+42.3611289</td>\n",
       "      <td>-071.0069754</td>\n",
       "      <td>N</td>\n",
       "      <td>MULTIPOLYGON (((-7904984.309 5220441.555, -790...</td>\n",
       "    </tr>\n",
       "    <tr>\n",
       "      <th>528</th>\n",
       "      <td>25</td>\n",
       "      <td>02122</td>\n",
       "      <td>2502122</td>\n",
       "      <td>B5</td>\n",
       "      <td>G6350</td>\n",
       "      <td>S</td>\n",
       "      <td>5263269</td>\n",
       "      <td>1641767</td>\n",
       "      <td>+42.2914125</td>\n",
       "      <td>-071.0421575</td>\n",
       "      <td>N</td>\n",
       "      <td>MULTIPOLYGON (((-7908987.507 5203148.038, -790...</td>\n",
       "    </tr>\n",
       "    <tr>\n",
       "      <th>529</th>\n",
       "      <td>25</td>\n",
       "      <td>02151</td>\n",
       "      <td>2502151</td>\n",
       "      <td>B5</td>\n",
       "      <td>G6350</td>\n",
       "      <td>S</td>\n",
       "      <td>15190546</td>\n",
       "      <td>3291332</td>\n",
       "      <td>+42.4182938</td>\n",
       "      <td>-071.0012566</td>\n",
       "      <td>N</td>\n",
       "      <td>MULTIPOLYGON (((-7904984.309 5220441.555, -790...</td>\n",
       "    </tr>\n",
       "  </tbody>\n",
       "</table>\n",
       "<p>164 rows × 12 columns</p>\n",
       "</div>"
      ],
      "text/plain": [
       "    STATEFP10 ZCTA5CE10  GEOID10 CLASSFP10 MTFCC10 FUNCSTAT10   ALAND10  \\\n",
       "17         25     01905  2501905        B5   G6350          S   9219345   \n",
       "18         25     01904  2501904        B5   G6350          S  11708211   \n",
       "21         25     01915  2501915        B5   G6350          S  39091336   \n",
       "35         25     02462  2502462        B5   G6350          S   1369318   \n",
       "37         25     01760  2501760        B5   G6350          S  38359306   \n",
       "..        ...       ...      ...       ...     ...        ...       ...   \n",
       "524        25     02343  2502343        B5   G6350          S  18146751   \n",
       "526        25     02129  2502129        B5   G6350          S   3492181   \n",
       "527        25     02128  2502128        B5   G6350          S  12561059   \n",
       "528        25     02122  2502122        B5   G6350          S   5263269   \n",
       "529        25     02151  2502151        B5   G6350          S  15190546   \n",
       "\n",
       "     AWATER10   INTPTLAT10    INTPTLON10 PARTFLG10  \\\n",
       "17    1195154  +42.4659985  -070.9757922         N   \n",
       "18    1303900  +42.4924563  -070.9739297         N   \n",
       "21    3958118  +42.5702688  -070.8669962         N   \n",
       "35      69749  +42.3287076  -071.2559002         N   \n",
       "37    2599042  +42.2848223  -071.3488109         N   \n",
       "..        ...          ...           ...       ...   \n",
       "524    280250  +42.1489129  -071.0037371         N   \n",
       "526   1266666  +42.3796570  -071.0614875         N   \n",
       "527   2952872  +42.3611289  -071.0069754         N   \n",
       "528   1641767  +42.2914125  -071.0421575         N   \n",
       "529   3291332  +42.4182938  -071.0012566         N   \n",
       "\n",
       "                                              geometry  \n",
       "17   MULTIPOLYGON (((-7899944.411 5232206.578, -789...  \n",
       "18   POLYGON ((-7897468.553 5233487.096, -7897513.7...  \n",
       "21   MULTIPOLYGON (((-7890462.043 5249910.060, -788...  \n",
       "35   MULTIPOLYGON (((-7929552.593 5209938.258, -792...  \n",
       "37   POLYGON ((-7948367.918 5204315.595, -7948371.4...  \n",
       "..                                                 ...  \n",
       "524  POLYGON ((-7901321.179 5183869.703, -7901334.9...  \n",
       "526  MULTIPOLYGON (((-7911523.459 5216922.381, -791...  \n",
       "527  MULTIPOLYGON (((-7904984.309 5220441.555, -790...  \n",
       "528  MULTIPOLYGON (((-7908987.507 5203148.038, -790...  \n",
       "529  MULTIPOLYGON (((-7904984.309 5220441.555, -790...  \n",
       "\n",
       "[164 rows x 12 columns]"
      ]
     },
     "execution_count": 21,
     "metadata": {},
     "output_type": "execute_result"
    }
   ],
   "source": [
    "zcta_boston"
   ]
  },
  {
   "cell_type": "code",
   "execution_count": 22,
   "id": "bc21aaee-c9e5-43e8-884d-96b41642d494",
   "metadata": {},
   "outputs": [
    {
     "data": {
      "image/png": "[encoded data removed]",
      "text/plain": [
       "<Figure size 432x288 with 1 Axes>"
      ]
     },
     "metadata": {
      "needs_background": "light"
     },
     "output_type": "display_data"
    }
   ],
   "source": [
    "zcta_boston.plot()\n",
    "plt.show()"
   ]
  },
  {
   "cell_type": "markdown",
   "id": "133442bb-1e5d-4474-b46d-dbd5ad5659ad",
   "metadata": {},
   "source": [
    "## Identify Indiactors\n",
    "After we have extracted ZCTAs in the study area, next step is to identify indicators. As far as I am conerned, for foreign-born STEM workers, they tend to have relatively higher salary. Comparing with other non-STEM immigrants, they tend to be more care about the basic infrastructure and environment within their neighborhoods. Hence, I pick landcover, hospitals, tree canopy and schools as initial four indicators. \n",
    "\n",
    "For each indicator, I will do the summary, visualization and reclassification such as calculating the value by zipcode, mapping the location, creating a choropleth map, ranking the area based on values. "
   ]
  },
  {
   "cell_type": "markdown",
   "id": "3d468f61-066b-4137-9a0d-355edfd6901e",
   "metadata": {},
   "source": [
    "I will start my analysis by landcover data to identify potential livable areas. Landcover is raster data. "
   ]
  },
  {
   "cell_type": "code",
   "execution_count": 23,
   "id": "5561f0c0-a0ea-4eca-b8f7-a06164b36aea",
   "metadata": {},
   "outputs": [],
   "source": [
    "# I will first read in the landcover data\n",
    "with rasterio.open('Data/nlcd/NLCD_2016_Land_Cover_Boston.tif') as landcover:\n",
    "    landcover_shape = landcover.shape\n",
    "    landcover_transform = landcover.transform\n",
    "    landcover_res = landcover.res\n",
    "    landcover_crs = landcover.crs\n",
    "    landcover_nodata = landcover.nodata\n",
    "    landcover_bounds = landcover.bounds\n",
    "    landcover_1 = landcover.read(1)"
   ]
  },
  {
   "cell_type": "code",
   "execution_count": 24,
   "id": "099b1960-7240-41cd-8602-58d6e22819a5",
   "metadata": {},
   "outputs": [
    {
     "data": {
      "image/png": "[encoded data removed]",
      "text/plain": [
       "<Figure size 432x288 with 1 Axes>"
      ]
     },
     "metadata": {
      "needs_background": "light"
     },
     "output_type": "display_data"
    }
   ],
   "source": [
    "#Visualization\n",
    "show(landcover_1, transform = landcover_transform,cmap='Pastel1' )\n",
    "plt.show()"
   ]
  },
  {
   "cell_type": "code",
   "execution_count": 25,
   "id": "d8056f79-1767-4762-9560-a608dcce16cd",
   "metadata": {},
   "outputs": [],
   "source": [
    "#Create reclassification\n",
    "landcover_reclass = np.full(landcover_shape, np.NaN)"
   ]
  },
  {
   "cell_type": "code",
   "execution_count": 26,
   "id": "de6f4f87-d31d-4be9-a0c3-36ae947467f3",
   "metadata": {},
   "outputs": [],
   "source": [
    "#Reclassify\n",
    "landcover_reclass[(landcover_1 == 23)] =5\n",
    "landcover_reclass[(landcover_1 == 24)] = 4\n",
    "landcover_reclass[(landcover_1 == 22)] = 3\n",
    "landcover_reclass[(landcover_1 ==21)] = 2\n",
    "landcover_reclass[(landcover_1 !=23) & (landcover_1 != 24)& (landcover_1 != 22)& (landcover_1 != 21)] = 1"
   ]
  },
  {
   "cell_type": "code",
   "execution_count": 27,
   "id": "811c5565-5cbd-4473-861d-bfe5885553ff",
   "metadata": {},
   "outputs": [
    {
     "data": {
      "text/plain": [
       "array([[1., 1., 1., ..., 1., 1., 1.],\n",
       "       [1., 1., 1., ..., 1., 1., 1.],\n",
       "       [1., 1., 1., ..., 1., 1., 1.],\n",
       "       ...,\n",
       "       [1., 1., 1., ..., 1., 1., 1.],\n",
       "       [1., 1., 1., ..., 1., 1., 1.],\n",
       "       [1., 1., 1., ..., 1., 1., 1.]])"
      ]
     },
     "execution_count": 27,
     "metadata": {},
     "output_type": "execute_result"
    }
   ],
   "source": [
    "landcover_reclass"
   ]
  },
  {
   "cell_type": "code",
   "execution_count": 28,
   "id": "9c438d46-829d-48f6-aec5-4fd314bd0770",
   "metadata": {},
   "outputs": [
    {
     "data": {
      "image/png": "[encoded data removed]",
      "text/plain": [
       "<Figure size 432x288 with 1 Axes>"
      ]
     },
     "metadata": {
      "needs_background": "light"
     },
     "output_type": "display_data"
    }
   ],
   "source": [
    "#Visualization after Reclassification\n",
    "show(landcover_reclass,cmap='Blues',transform=landcover_transform)\n",
    "plt.show()"
   ]
  },
  {
   "cell_type": "markdown",
   "id": "dd9cb336-26f0-45be-a4d9-0f54b32be1af",
   "metadata": {},
   "source": [
    "I will start working on tree canopy as my second indicator which is an important component for the environment. Tree canopy is also raster data."
   ]
  },
  {
   "cell_type": "code",
   "execution_count": 29,
   "id": "075bb720-c1c4-45c7-886a-70fd05e1a4a9",
   "metadata": {},
   "outputs": [],
   "source": [
    "with rasterio.open('Data/nlcd/NLCD_2016_Tree_Canopy_Boston.tif') as Trees:\n",
    "    Trees_shape = Trees.shape\n",
    "    Trees_transform = Trees.transform\n",
    "    Trees_res = Trees.res\n",
    "    Trees_crs = Trees.crs\n",
    "    Trees_nodata = Trees.nodata\n",
    "    Trees_bounds = Trees.bounds\n",
    "    Trees_1 = Trees.read(1)"
   ]
  },
  {
   "cell_type": "code",
   "execution_count": 30,
   "id": "97ac06c6-9385-450b-83f1-19e9cbd34b4e",
   "metadata": {},
   "outputs": [],
   "source": [
    "#Check if tree canopy has the same medata as landcover\n",
    "with rasterio.open('Data/nlcd/NLCD_2016_Land_Cover_Boston.tif') as landcover:\n",
    "    landcover_meta = landcover.meta"
   ]
  },
  {
   "cell_type": "code",
   "execution_count": 31,
   "id": "4199c5ed-6d79-48f8-a8c4-f6be3abcbabc",
   "metadata": {},
   "outputs": [],
   "source": [
    "with rasterio.open('Data/nlcd/NLCD_2016_Tree_Canopy_Boston.tif') as Trees:\n",
    "    Trees_meta = Trees.meta"
   ]
  },
  {
   "cell_type": "code",
   "execution_count": 32,
   "id": "848c9652-1137-406b-9d41-9e4224a0b723",
   "metadata": {},
   "outputs": [
    {
     "data": {
      "text/plain": [
       "True"
      ]
     },
     "execution_count": 32,
     "metadata": {},
     "output_type": "execute_result"
    }
   ],
   "source": [
    "Trees_meta ==landcover_meta"
   ]
  },
  {
   "cell_type": "code",
   "execution_count": 33,
   "id": "922ed170-a61b-4822-bc12-448e450de8ec",
   "metadata": {},
   "outputs": [
    {
     "data": {
      "image/png": "[encoded data removed]",
      "text/plain": [
       "<Figure size 432x288 with 1 Axes>"
      ]
     },
     "metadata": {
      "needs_background": "light"
     },
     "output_type": "display_data"
    }
   ],
   "source": [
    "#Visualization\n",
    "show(Trees_1, transform = Trees_transform,cmap='Pastel1')\n",
    "plt.show()"
   ]
  },
  {
   "cell_type": "code",
   "execution_count": 34,
   "id": "488d7ec9-a57a-47e6-a28a-2602cef51908",
   "metadata": {},
   "outputs": [
    {
     "data": {
      "text/plain": [
       "array([[ 86,  88,  84, ..., 255, 255, 255],\n",
       "       [ 88,  89,  89, ..., 255, 255, 255],\n",
       "       [ 85,  89,  88, ..., 255, 255, 255],\n",
       "       ...,\n",
       "       [ 85,  84,  89, ...,   0,   0,   0],\n",
       "       [ 89,  87,  87, ...,   0,   0,   0],\n",
       "       [ 89,  87,  86, ...,   0,   0,   0]], dtype=uint8)"
      ]
     },
     "execution_count": 34,
     "metadata": {},
     "output_type": "execute_result"
    }
   ],
   "source": [
    "Trees_1"
   ]
  },
  {
   "cell_type": "code",
   "execution_count": 35,
   "id": "7e31f99b-b7a2-48a6-b22d-1d30fb0c38cd",
   "metadata": {},
   "outputs": [],
   "source": [
    "Trees_reclass = np.full(Trees_shape, np.NaN)"
   ]
  },
  {
   "cell_type": "code",
   "execution_count": 36,
   "id": "9db1ee6c-7491-4eb8-a414-9531b440d007",
   "metadata": {},
   "outputs": [],
   "source": [
    "#Reclassify\n",
    "Trees_reclass[(Trees_1 >= 60)& (Trees_1 < 70)] =5\n",
    "Trees_reclass[((Trees_1 >= 50)& (Trees_1 < 60))|((Trees_1 >= 70)& (Trees_1 < 80))] =4\n",
    "Trees_reclass[((Trees_1 >= 40)& (Trees_1 < 50))|((Trees_1 >= 80)& (Trees_1 < 90))] =3\n",
    "Trees_reclass[((Trees_1 >= 15)& (Trees_1 < 40))|(Trees_1 >= 90)] =2\n",
    "Trees_reclass[Trees_1 < 15] =1"
   ]
  },
  {
   "cell_type": "code",
   "execution_count": 37,
   "id": "430a6a9c-ab4b-4664-84d6-c8ee3f942964",
   "metadata": {},
   "outputs": [
    {
     "data": {
      "image/png": "[encoded data removed]",
      "text/plain": [
       "<Figure size 432x288 with 1 Axes>"
      ]
     },
     "metadata": {
      "needs_background": "light"
     },
     "output_type": "display_data"
    }
   ],
   "source": [
    "#Visualization after Reclassification\n",
    "show(landcover_reclass,cmap='Greens',transform=landcover_transform)\n",
    "plt.show()"
   ]
  },
  {
   "cell_type": "markdown",
   "id": "2786c606-f64a-4608-abe9-ca20ebe3d77c",
   "metadata": {},
   "source": [
    "After looking at two environment indicators, I will start looking at indicators that are related to infrastructures.\n",
    "\n",
    "To start with, I will look at hospitals."
   ]
  },
  {
   "cell_type": "code",
   "execution_count": 38,
   "id": "998e3124-30b2-4f6e-b44e-4e8def19d55a",
   "metadata": {},
   "outputs": [],
   "source": [
    "#I will start with hospitals\n",
    "#Hospitals\n",
    "Hospitals = gpd.read_file('Data/hospitals/HOSPITALS_PT.shp')"
   ]
  },
  {
   "cell_type": "code",
   "execution_count": 39,
   "id": "743ef8ae-772a-4a02-99de-ccfb6ca85bf9",
   "metadata": {},
   "outputs": [
    {
     "data": {
      "text/html": [
       "<div>\n",
       "<style scoped>\n",
       "    .dataframe tbody tr th:only-of-type {\n",
       "        vertical-align: middle;\n",
       "    }\n",
       "\n",
       "    .dataframe tbody tr th {\n",
       "        vertical-align: top;\n",
       "    }\n",
       "\n",
       "    .dataframe thead th {\n",
       "        text-align: right;\n",
       "    }\n",
       "</style>\n",
       "<table border=\"1\" class=\"dataframe\">\n",
       "  <thead>\n",
       "    <tr style=\"text-align: right;\">\n",
       "      <th></th>\n",
       "      <th>IDNUMBER</th>\n",
       "      <th>DPHID</th>\n",
       "      <th>NAME</th>\n",
       "      <th>SHORTNAME</th>\n",
       "      <th>ADDRESS</th>\n",
       "      <th>TOWN</th>\n",
       "      <th>GEOG_TOWN</th>\n",
       "      <th>ZIPCODE</th>\n",
       "      <th>CHIAREGION</th>\n",
       "      <th>TELEPHONE</th>\n",
       "      <th>...</th>\n",
       "      <th>TAXSTATUS</th>\n",
       "      <th>BEDCOUNT</th>\n",
       "      <th>ER_STATUS</th>\n",
       "      <th>TRAUMA_ADU</th>\n",
       "      <th>TRAUMA_PED</th>\n",
       "      <th>SPEPUBFUND</th>\n",
       "      <th>FYE</th>\n",
       "      <th>MADID</th>\n",
       "      <th>EMSREGION</th>\n",
       "      <th>geometry</th>\n",
       "    </tr>\n",
       "  </thead>\n",
       "  <tbody>\n",
       "    <tr>\n",
       "      <th>0</th>\n",
       "      <td>2069</td>\n",
       "      <td>2069</td>\n",
       "      <td>Beth Israel Deaconess Medical Center East</td>\n",
       "      <td>BIDMC East</td>\n",
       "      <td>330 Brookline Avenue</td>\n",
       "      <td>Boston</td>\n",
       "      <td>BOSTON</td>\n",
       "      <td>02215</td>\n",
       "      <td>Metro Boston</td>\n",
       "      <td>(617) 667-7000</td>\n",
       "      <td>...</td>\n",
       "      <td>Non-profit</td>\n",
       "      <td>248</td>\n",
       "      <td>N</td>\n",
       "      <td>None</td>\n",
       "      <td>None</td>\n",
       "      <td>Not Applicable</td>\n",
       "      <td>2017-09-30</td>\n",
       "      <td>35022096</td>\n",
       "      <td>4</td>\n",
       "      <td>POINT (232494.091 898890.122)</td>\n",
       "    </tr>\n",
       "    <tr>\n",
       "      <th>1</th>\n",
       "      <td>2085</td>\n",
       "      <td>2085</td>\n",
       "      <td>Steward St. Elizabeth's Medical Center</td>\n",
       "      <td>St. Elizabeth's Medical Center</td>\n",
       "      <td>736 Cambridge Street</td>\n",
       "      <td>Brighton</td>\n",
       "      <td>BOSTON</td>\n",
       "      <td>02135</td>\n",
       "      <td>Metro Boston</td>\n",
       "      <td>(617) 789-3000</td>\n",
       "      <td>...</td>\n",
       "      <td>For profit</td>\n",
       "      <td>252</td>\n",
       "      <td>Y</td>\n",
       "      <td>None</td>\n",
       "      <td>None</td>\n",
       "      <td>Not Applicable</td>\n",
       "      <td>2017-12-31</td>\n",
       "      <td>35156980</td>\n",
       "      <td>4</td>\n",
       "      <td>POINT (229003.958 899958.291)</td>\n",
       "    </tr>\n",
       "    <tr>\n",
       "      <th>2</th>\n",
       "      <td>2299</td>\n",
       "      <td>2299</td>\n",
       "      <td>Tufts Medical Center</td>\n",
       "      <td>Tufts Medical Center</td>\n",
       "      <td>800 Washington Street</td>\n",
       "      <td>Boston</td>\n",
       "      <td>BOSTON</td>\n",
       "      <td>02111</td>\n",
       "      <td>Metro Boston</td>\n",
       "      <td>(617) 636-5000</td>\n",
       "      <td>...</td>\n",
       "      <td>Non-profit</td>\n",
       "      <td>415</td>\n",
       "      <td>Y</td>\n",
       "      <td>Level 1</td>\n",
       "      <td>Level 1</td>\n",
       "      <td>Not Applicable</td>\n",
       "      <td>2017-09-30</td>\n",
       "      <td>35145764</td>\n",
       "      <td>4</td>\n",
       "      <td>POINT (235963.109 899998.149)</td>\n",
       "    </tr>\n",
       "    <tr>\n",
       "      <th>3</th>\n",
       "      <td>2103</td>\n",
       "      <td>2103</td>\n",
       "      <td>UMass Memorial Marlborough Hospital</td>\n",
       "      <td>Marlborough Hospital</td>\n",
       "      <td>157 Union Street</td>\n",
       "      <td>Marlborough</td>\n",
       "      <td>MARLBOROUGH</td>\n",
       "      <td>01752</td>\n",
       "      <td>Metro West</td>\n",
       "      <td>(508) 481-5000</td>\n",
       "      <td>...</td>\n",
       "      <td>Non-profit</td>\n",
       "      <td>79</td>\n",
       "      <td>Y</td>\n",
       "      <td>None</td>\n",
       "      <td>None</td>\n",
       "      <td>CHART</td>\n",
       "      <td>2017-09-30</td>\n",
       "      <td>1613538</td>\n",
       "      <td>4</td>\n",
       "      <td>POINT (195490.775 900535.402)</td>\n",
       "    </tr>\n",
       "    <tr>\n",
       "      <th>4</th>\n",
       "      <td>2167</td>\n",
       "      <td>2167</td>\n",
       "      <td>Massachusetts Eye and Ear Infirmary</td>\n",
       "      <td>Massachusetts Eye and Ear Infirmary</td>\n",
       "      <td>243 Charles Street</td>\n",
       "      <td>Boston</td>\n",
       "      <td>BOSTON</td>\n",
       "      <td>02114</td>\n",
       "      <td>Metro Boston</td>\n",
       "      <td>(617) 523-7900</td>\n",
       "      <td>...</td>\n",
       "      <td>Non-profit</td>\n",
       "      <td>41</td>\n",
       "      <td>Y</td>\n",
       "      <td>None</td>\n",
       "      <td>None</td>\n",
       "      <td>Not Applicable</td>\n",
       "      <td>2017-09-30</td>\n",
       "      <td>35163139</td>\n",
       "      <td>4</td>\n",
       "      <td>POINT (235396.614 901452.905)</td>\n",
       "    </tr>\n",
       "    <tr>\n",
       "      <th>...</th>\n",
       "      <td>...</td>\n",
       "      <td>...</td>\n",
       "      <td>...</td>\n",
       "      <td>...</td>\n",
       "      <td>...</td>\n",
       "      <td>...</td>\n",
       "      <td>...</td>\n",
       "      <td>...</td>\n",
       "      <td>...</td>\n",
       "      <td>...</td>\n",
       "      <td>...</td>\n",
       "      <td>...</td>\n",
       "      <td>...</td>\n",
       "      <td>...</td>\n",
       "      <td>...</td>\n",
       "      <td>...</td>\n",
       "      <td>...</td>\n",
       "      <td>...</td>\n",
       "      <td>...</td>\n",
       "      <td>...</td>\n",
       "      <td>...</td>\n",
       "    </tr>\n",
       "    <tr>\n",
       "      <th>70</th>\n",
       "      <td>2007</td>\n",
       "      <td>2007</td>\n",
       "      <td>Northeast Hospital - Beverly Hospital Campus</td>\n",
       "      <td>Beverly Hospital</td>\n",
       "      <td>85 Herrick Street</td>\n",
       "      <td>Beverly</td>\n",
       "      <td>BEVERLY</td>\n",
       "      <td>01915</td>\n",
       "      <td>Northeastern Massachusetts</td>\n",
       "      <td>(978) 922-3000</td>\n",
       "      <td>...</td>\n",
       "      <td>Non-profit</td>\n",
       "      <td>223</td>\n",
       "      <td>Y</td>\n",
       "      <td>Level 3</td>\n",
       "      <td>None</td>\n",
       "      <td>CHART</td>\n",
       "      <td>2017-09-30</td>\n",
       "      <td>30603</td>\n",
       "      <td>3</td>\n",
       "      <td>POINT (251282.809 923893.413)</td>\n",
       "    </tr>\n",
       "    <tr>\n",
       "      <th>71</th>\n",
       "      <td>2099</td>\n",
       "      <td>2099</td>\n",
       "      <td>Lawrence General Hospital</td>\n",
       "      <td>Lawrence General Hospital</td>\n",
       "      <td>One General Street</td>\n",
       "      <td>Lawrence</td>\n",
       "      <td>LAWRENCE</td>\n",
       "      <td>01842</td>\n",
       "      <td>Northeastern Massachusetts</td>\n",
       "      <td>(978) 683-4000</td>\n",
       "      <td>...</td>\n",
       "      <td>Non-profit</td>\n",
       "      <td>189</td>\n",
       "      <td>Y</td>\n",
       "      <td>Level 3</td>\n",
       "      <td>None</td>\n",
       "      <td>CHART, DSTI</td>\n",
       "      <td>2017-09-30</td>\n",
       "      <td>2105337</td>\n",
       "      <td>3</td>\n",
       "      <td>POINT (228733.925 939952.581)</td>\n",
       "    </tr>\n",
       "    <tr>\n",
       "      <th>72</th>\n",
       "      <td>2225</td>\n",
       "      <td>2225</td>\n",
       "      <td>Steward Holy Family Hospital - Methuen</td>\n",
       "      <td>Holy Family Hospital-Methuen</td>\n",
       "      <td>70 East Street</td>\n",
       "      <td>Methuen</td>\n",
       "      <td>METHUEN</td>\n",
       "      <td>01844</td>\n",
       "      <td>Northeastern Massachusetts</td>\n",
       "      <td>(978) 687-0151</td>\n",
       "      <td>...</td>\n",
       "      <td>For profit</td>\n",
       "      <td>223</td>\n",
       "      <td>Y</td>\n",
       "      <td>None</td>\n",
       "      <td>None</td>\n",
       "      <td>Not Applicable</td>\n",
       "      <td>2017-12-31</td>\n",
       "      <td>2067363</td>\n",
       "      <td>3</td>\n",
       "      <td>POINT (227158.670 941961.942)</td>\n",
       "    </tr>\n",
       "    <tr>\n",
       "      <th>73</th>\n",
       "      <td>2131</td>\n",
       "      <td>2131</td>\n",
       "      <td>Steward Holy Family Hospital - Haverhill</td>\n",
       "      <td>Holy Family Hospital-Haverhill</td>\n",
       "      <td>140 Lincoln Avenue</td>\n",
       "      <td>Haverhill</td>\n",
       "      <td>HAVERHILL</td>\n",
       "      <td>01830</td>\n",
       "      <td>Northeastern Massachusetts</td>\n",
       "      <td>(978) 374-2000</td>\n",
       "      <td>...</td>\n",
       "      <td>Non-profit</td>\n",
       "      <td>124</td>\n",
       "      <td>Y</td>\n",
       "      <td>None</td>\n",
       "      <td>None</td>\n",
       "      <td>None</td>\n",
       "      <td>None</td>\n",
       "      <td>2228036</td>\n",
       "      <td>3</td>\n",
       "      <td>POINT (237237.989 946159.364)</td>\n",
       "    </tr>\n",
       "    <tr>\n",
       "      <th>74</th>\n",
       "      <td>2006</td>\n",
       "      <td>2006</td>\n",
       "      <td>Anna Jaques Hospital</td>\n",
       "      <td>Anna Jaques Hospital</td>\n",
       "      <td>25 Highland Avenue</td>\n",
       "      <td>Newburyport</td>\n",
       "      <td>NEWBURYPORT</td>\n",
       "      <td>01950</td>\n",
       "      <td>Northeastern Massachusetts</td>\n",
       "      <td>(978) 463-1000</td>\n",
       "      <td>...</td>\n",
       "      <td>Non-profit</td>\n",
       "      <td>111</td>\n",
       "      <td>Y</td>\n",
       "      <td>Level 3</td>\n",
       "      <td>None</td>\n",
       "      <td>CHART</td>\n",
       "      <td>2017-09-30</td>\n",
       "      <td>3872436</td>\n",
       "      <td>3</td>\n",
       "      <td>POINT (249801.852 951707.195)</td>\n",
       "    </tr>\n",
       "  </tbody>\n",
       "</table>\n",
       "<p>75 rows × 22 columns</p>\n",
       "</div>"
      ],
      "text/plain": [
       "   IDNUMBER  DPHID                                          NAME  \\\n",
       "0      2069   2069     Beth Israel Deaconess Medical Center East   \n",
       "1      2085   2085        Steward St. Elizabeth's Medical Center   \n",
       "2      2299   2299                          Tufts Medical Center   \n",
       "3      2103   2103           UMass Memorial Marlborough Hospital   \n",
       "4      2167   2167           Massachusetts Eye and Ear Infirmary   \n",
       "..      ...    ...                                           ...   \n",
       "70     2007   2007  Northeast Hospital - Beverly Hospital Campus   \n",
       "71     2099   2099                     Lawrence General Hospital   \n",
       "72     2225   2225        Steward Holy Family Hospital - Methuen   \n",
       "73     2131   2131      Steward Holy Family Hospital - Haverhill   \n",
       "74     2006   2006                          Anna Jaques Hospital   \n",
       "\n",
       "                              SHORTNAME                ADDRESS         TOWN  \\\n",
       "0                            BIDMC East   330 Brookline Avenue       Boston   \n",
       "1        St. Elizabeth's Medical Center   736 Cambridge Street     Brighton   \n",
       "2                  Tufts Medical Center  800 Washington Street       Boston   \n",
       "3                  Marlborough Hospital       157 Union Street  Marlborough   \n",
       "4   Massachusetts Eye and Ear Infirmary     243 Charles Street       Boston   \n",
       "..                                  ...                    ...          ...   \n",
       "70                     Beverly Hospital      85 Herrick Street      Beverly   \n",
       "71            Lawrence General Hospital     One General Street     Lawrence   \n",
       "72         Holy Family Hospital-Methuen         70 East Street      Methuen   \n",
       "73       Holy Family Hospital-Haverhill     140 Lincoln Avenue    Haverhill   \n",
       "74                 Anna Jaques Hospital     25 Highland Avenue  Newburyport   \n",
       "\n",
       "      GEOG_TOWN ZIPCODE                  CHIAREGION       TELEPHONE  ...  \\\n",
       "0        BOSTON   02215                Metro Boston  (617) 667-7000  ...   \n",
       "1        BOSTON   02135                Metro Boston  (617) 789-3000  ...   \n",
       "2        BOSTON   02111                Metro Boston  (617) 636-5000  ...   \n",
       "3   MARLBOROUGH   01752                  Metro West  (508) 481-5000  ...   \n",
       "4        BOSTON   02114                Metro Boston  (617) 523-7900  ...   \n",
       "..          ...     ...                         ...             ...  ...   \n",
       "70      BEVERLY   01915  Northeastern Massachusetts  (978) 922-3000  ...   \n",
       "71     LAWRENCE   01842  Northeastern Massachusetts  (978) 683-4000  ...   \n",
       "72      METHUEN   01844  Northeastern Massachusetts  (978) 687-0151  ...   \n",
       "73    HAVERHILL   01830  Northeastern Massachusetts  (978) 374-2000  ...   \n",
       "74  NEWBURYPORT   01950  Northeastern Massachusetts  (978) 463-1000  ...   \n",
       "\n",
       "     TAXSTATUS BEDCOUNT ER_STATUS  TRAUMA_ADU TRAUMA_PED      SPEPUBFUND  \\\n",
       "0   Non-profit      248         N        None       None  Not Applicable   \n",
       "1   For profit      252         Y        None       None  Not Applicable   \n",
       "2   Non-profit      415         Y     Level 1    Level 1  Not Applicable   \n",
       "3   Non-profit       79         Y        None       None           CHART   \n",
       "4   Non-profit       41         Y        None       None  Not Applicable   \n",
       "..         ...      ...       ...         ...        ...             ...   \n",
       "70  Non-profit      223         Y     Level 3       None           CHART   \n",
       "71  Non-profit      189         Y     Level 3       None     CHART, DSTI   \n",
       "72  For profit      223         Y        None       None  Not Applicable   \n",
       "73  Non-profit      124         Y        None       None            None   \n",
       "74  Non-profit      111         Y     Level 3       None           CHART   \n",
       "\n",
       "           FYE     MADID EMSREGION                       geometry  \n",
       "0   2017-09-30  35022096         4  POINT (232494.091 898890.122)  \n",
       "1   2017-12-31  35156980         4  POINT (229003.958 899958.291)  \n",
       "2   2017-09-30  35145764         4  POINT (235963.109 899998.149)  \n",
       "3   2017-09-30   1613538         4  POINT (195490.775 900535.402)  \n",
       "4   2017-09-30  35163139         4  POINT (235396.614 901452.905)  \n",
       "..         ...       ...       ...                            ...  \n",
       "70  2017-09-30     30603         3  POINT (251282.809 923893.413)  \n",
       "71  2017-09-30   2105337         3  POINT (228733.925 939952.581)  \n",
       "72  2017-12-31   2067363         3  POINT (227158.670 941961.942)  \n",
       "73        None   2228036         3  POINT (237237.989 946159.364)  \n",
       "74  2017-09-30   3872436         3  POINT (249801.852 951707.195)  \n",
       "\n",
       "[75 rows x 22 columns]"
      ]
     },
     "execution_count": 39,
     "metadata": {},
     "output_type": "execute_result"
    }
   ],
   "source": [
    "Hospitals"
   ]
  },
  {
   "cell_type": "code",
   "execution_count": 40,
   "id": "5c7cd92e-d1b8-4706-83c3-0788a9287c5e",
   "metadata": {},
   "outputs": [
    {
     "data": {
      "text/plain": [
       "geopandas.geodataframe.GeoDataFrame"
      ]
     },
     "execution_count": 40,
     "metadata": {},
     "output_type": "execute_result"
    }
   ],
   "source": [
    "type(Hospitals)"
   ]
  },
  {
   "cell_type": "code",
   "execution_count": 41,
   "id": "b0b2a6c1-1604-4340-b0e9-0f455f7c5118",
   "metadata": {},
   "outputs": [
    {
     "data": {
      "text/plain": [
       "False"
      ]
     },
     "execution_count": 41,
     "metadata": {},
     "output_type": "execute_result"
    }
   ],
   "source": [
    "zcta_boston.crs==Hospitals.crs"
   ]
  },
  {
   "cell_type": "code",
   "execution_count": 42,
   "id": "8c7fb4d3-ed26-49f5-b590-b2664f87f53d",
   "metadata": {},
   "outputs": [],
   "source": [
    "hospital=Hospitals.to_crs(zcta_boston.crs)"
   ]
  },
  {
   "cell_type": "code",
   "execution_count": 43,
   "id": "068651d9-a2a1-46a5-9f2f-6adc88ab6b17",
   "metadata": {},
   "outputs": [
    {
     "data": {
      "text/plain": [
       "True"
      ]
     },
     "execution_count": 43,
     "metadata": {},
     "output_type": "execute_result"
    }
   ],
   "source": [
    "hospital.crs == zcta_boston.crs"
   ]
  },
  {
   "cell_type": "code",
   "execution_count": 44,
   "id": "57145ea0-47ce-435f-9c83-f8f3a5ed7be5",
   "metadata": {},
   "outputs": [
    {
     "data": {
      "text/html": [
       "<div>\n",
       "<style scoped>\n",
       "    .dataframe tbody tr th:only-of-type {\n",
       "        vertical-align: middle;\n",
       "    }\n",
       "\n",
       "    .dataframe tbody tr th {\n",
       "        vertical-align: top;\n",
       "    }\n",
       "\n",
       "    .dataframe thead th {\n",
       "        text-align: right;\n",
       "    }\n",
       "</style>\n",
       "<table border=\"1\" class=\"dataframe\">\n",
       "  <thead>\n",
       "    <tr style=\"text-align: right;\">\n",
       "      <th></th>\n",
       "      <th>IDNUMBER</th>\n",
       "      <th>DPHID</th>\n",
       "      <th>NAME</th>\n",
       "      <th>SHORTNAME</th>\n",
       "      <th>ADDRESS</th>\n",
       "      <th>TOWN</th>\n",
       "      <th>GEOG_TOWN</th>\n",
       "      <th>ZIPCODE</th>\n",
       "      <th>CHIAREGION</th>\n",
       "      <th>TELEPHONE</th>\n",
       "      <th>...</th>\n",
       "      <th>GEOID10</th>\n",
       "      <th>CLASSFP10</th>\n",
       "      <th>MTFCC10</th>\n",
       "      <th>FUNCSTAT10</th>\n",
       "      <th>ALAND10</th>\n",
       "      <th>AWATER10</th>\n",
       "      <th>INTPTLAT10</th>\n",
       "      <th>INTPTLON10</th>\n",
       "      <th>PARTFLG10</th>\n",
       "      <th>geometry_y</th>\n",
       "    </tr>\n",
       "  </thead>\n",
       "  <tbody>\n",
       "    <tr>\n",
       "      <th>0</th>\n",
       "      <td>2069</td>\n",
       "      <td>2069</td>\n",
       "      <td>Beth Israel Deaconess Medical Center East</td>\n",
       "      <td>BIDMC East</td>\n",
       "      <td>330 Brookline Avenue</td>\n",
       "      <td>Boston</td>\n",
       "      <td>BOSTON</td>\n",
       "      <td>02215</td>\n",
       "      <td>Metro Boston</td>\n",
       "      <td>(617) 667-7000</td>\n",
       "      <td>...</td>\n",
       "      <td>2502215</td>\n",
       "      <td>B5</td>\n",
       "      <td>G6350</td>\n",
       "      <td>S</td>\n",
       "      <td>1979040</td>\n",
       "      <td>280050</td>\n",
       "      <td>+42.3475927</td>\n",
       "      <td>-071.1029340</td>\n",
       "      <td>N</td>\n",
       "      <td>POLYGON ((-7917617.107 5213795.544, -7917579.0...</td>\n",
       "    </tr>\n",
       "    <tr>\n",
       "      <th>1</th>\n",
       "      <td>2335</td>\n",
       "      <td>2335</td>\n",
       "      <td>Dana-Farber Cancer Institute</td>\n",
       "      <td>Dana-Farber Cancer Institute</td>\n",
       "      <td>450 Brookline Avenue</td>\n",
       "      <td>Boston</td>\n",
       "      <td>BOSTON</td>\n",
       "      <td>02215</td>\n",
       "      <td>Metro Boston</td>\n",
       "      <td>(617) 632-3000</td>\n",
       "      <td>...</td>\n",
       "      <td>2502215</td>\n",
       "      <td>B5</td>\n",
       "      <td>G6350</td>\n",
       "      <td>S</td>\n",
       "      <td>1979040</td>\n",
       "      <td>280050</td>\n",
       "      <td>+42.3475927</td>\n",
       "      <td>-071.1029340</td>\n",
       "      <td>N</td>\n",
       "      <td>POLYGON ((-7917617.107 5213795.544, -7917579.0...</td>\n",
       "    </tr>\n",
       "  </tbody>\n",
       "</table>\n",
       "<p>2 rows × 34 columns</p>\n",
       "</div>"
      ],
      "text/plain": [
       "  IDNUMBER  DPHID                                       NAME  \\\n",
       "0     2069   2069  Beth Israel Deaconess Medical Center East   \n",
       "1     2335   2335               Dana-Farber Cancer Institute   \n",
       "\n",
       "                      SHORTNAME               ADDRESS    TOWN GEOG_TOWN  \\\n",
       "0                    BIDMC East  330 Brookline Avenue  Boston    BOSTON   \n",
       "1  Dana-Farber Cancer Institute  450 Brookline Avenue  Boston    BOSTON   \n",
       "\n",
       "  ZIPCODE    CHIAREGION       TELEPHONE  ...  GEOID10 CLASSFP10 MTFCC10  \\\n",
       "0   02215  Metro Boston  (617) 667-7000  ...  2502215        B5   G6350   \n",
       "1   02215  Metro Boston  (617) 632-3000  ...  2502215        B5   G6350   \n",
       "\n",
       "   FUNCSTAT10  ALAND10 AWATER10   INTPTLAT10    INTPTLON10 PARTFLG10  \\\n",
       "0           S  1979040   280050  +42.3475927  -071.1029340         N   \n",
       "1           S  1979040   280050  +42.3475927  -071.1029340         N   \n",
       "\n",
       "                                          geometry_y  \n",
       "0  POLYGON ((-7917617.107 5213795.544, -7917579.0...  \n",
       "1  POLYGON ((-7917617.107 5213795.544, -7917579.0...  \n",
       "\n",
       "[2 rows x 34 columns]"
      ]
     },
     "execution_count": 44,
     "metadata": {},
     "output_type": "execute_result"
    }
   ],
   "source": [
    "#Join the two datasets\n",
    "hospital_m =hospital.merge(zcta_boston,left_on='ZIPCODE', right_on='ZCTA5CE10')\n",
    "hospital_m.head(2)"
   ]
  },
  {
   "cell_type": "code",
   "execution_count": 45,
   "id": "f31b2043-bbc9-42a4-9f2d-e24e1eb521ec",
   "metadata": {},
   "outputs": [
    {
     "data": {
      "text/html": [
       "<div>\n",
       "<style scoped>\n",
       "    .dataframe tbody tr th:only-of-type {\n",
       "        vertical-align: middle;\n",
       "    }\n",
       "\n",
       "    .dataframe tbody tr th {\n",
       "        vertical-align: top;\n",
       "    }\n",
       "\n",
       "    .dataframe thead th {\n",
       "        text-align: right;\n",
       "    }\n",
       "</style>\n",
       "<table border=\"1\" class=\"dataframe\">\n",
       "  <thead>\n",
       "    <tr style=\"text-align: right;\">\n",
       "      <th></th>\n",
       "      <th>count</th>\n",
       "      <th>nunique</th>\n",
       "    </tr>\n",
       "    <tr>\n",
       "      <th>ZIPCODE</th>\n",
       "      <th></th>\n",
       "      <th></th>\n",
       "    </tr>\n",
       "  </thead>\n",
       "  <tbody>\n",
       "    <tr>\n",
       "      <th>01702</th>\n",
       "      <td>1</td>\n",
       "      <td>1</td>\n",
       "    </tr>\n",
       "    <tr>\n",
       "      <th>01742</th>\n",
       "      <td>1</td>\n",
       "      <td>1</td>\n",
       "    </tr>\n",
       "    <tr>\n",
       "      <th>01752</th>\n",
       "      <td>1</td>\n",
       "      <td>1</td>\n",
       "    </tr>\n",
       "    <tr>\n",
       "      <th>01757</th>\n",
       "      <td>1</td>\n",
       "      <td>1</td>\n",
       "    </tr>\n",
       "    <tr>\n",
       "      <th>01760</th>\n",
       "      <td>1</td>\n",
       "      <td>1</td>\n",
       "    </tr>\n",
       "    <tr>\n",
       "      <th>01890</th>\n",
       "      <td>1</td>\n",
       "      <td>1</td>\n",
       "    </tr>\n",
       "    <tr>\n",
       "      <th>01904</th>\n",
       "      <td>1</td>\n",
       "      <td>1</td>\n",
       "    </tr>\n",
       "    <tr>\n",
       "      <th>01915</th>\n",
       "      <td>1</td>\n",
       "      <td>1</td>\n",
       "    </tr>\n",
       "    <tr>\n",
       "      <th>01960</th>\n",
       "      <td>1</td>\n",
       "      <td>1</td>\n",
       "    </tr>\n",
       "    <tr>\n",
       "      <th>01970</th>\n",
       "      <td>1</td>\n",
       "      <td>1</td>\n",
       "    </tr>\n",
       "    <tr>\n",
       "      <th>02062</th>\n",
       "      <td>1</td>\n",
       "      <td>1</td>\n",
       "    </tr>\n",
       "    <tr>\n",
       "      <th>02111</th>\n",
       "      <td>1</td>\n",
       "      <td>1</td>\n",
       "    </tr>\n",
       "    <tr>\n",
       "      <th>02114</th>\n",
       "      <td>3</td>\n",
       "      <td>3</td>\n",
       "    </tr>\n",
       "    <tr>\n",
       "      <th>02115</th>\n",
       "      <td>2</td>\n",
       "      <td>2</td>\n",
       "    </tr>\n",
       "    <tr>\n",
       "      <th>02118</th>\n",
       "      <td>2</td>\n",
       "      <td>2</td>\n",
       "    </tr>\n",
       "    <tr>\n",
       "      <th>02120</th>\n",
       "      <td>1</td>\n",
       "      <td>1</td>\n",
       "    </tr>\n",
       "    <tr>\n",
       "      <th>02124</th>\n",
       "      <td>1</td>\n",
       "      <td>1</td>\n",
       "    </tr>\n",
       "    <tr>\n",
       "      <th>02130</th>\n",
       "      <td>1</td>\n",
       "      <td>1</td>\n",
       "    </tr>\n",
       "    <tr>\n",
       "      <th>02135</th>\n",
       "      <td>1</td>\n",
       "      <td>1</td>\n",
       "    </tr>\n",
       "    <tr>\n",
       "      <th>02138</th>\n",
       "      <td>1</td>\n",
       "      <td>1</td>\n",
       "    </tr>\n",
       "    <tr>\n",
       "      <th>02139</th>\n",
       "      <td>1</td>\n",
       "      <td>1</td>\n",
       "    </tr>\n",
       "    <tr>\n",
       "      <th>02149</th>\n",
       "      <td>1</td>\n",
       "      <td>1</td>\n",
       "    </tr>\n",
       "    <tr>\n",
       "      <th>02155</th>\n",
       "      <td>1</td>\n",
       "      <td>1</td>\n",
       "    </tr>\n",
       "    <tr>\n",
       "      <th>02176</th>\n",
       "      <td>1</td>\n",
       "      <td>1</td>\n",
       "    </tr>\n",
       "    <tr>\n",
       "      <th>02186</th>\n",
       "      <td>1</td>\n",
       "      <td>1</td>\n",
       "    </tr>\n",
       "    <tr>\n",
       "      <th>02190</th>\n",
       "      <td>1</td>\n",
       "      <td>1</td>\n",
       "    </tr>\n",
       "    <tr>\n",
       "      <th>02215</th>\n",
       "      <td>3</td>\n",
       "      <td>3</td>\n",
       "    </tr>\n",
       "    <tr>\n",
       "      <th>02462</th>\n",
       "      <td>1</td>\n",
       "      <td>1</td>\n",
       "    </tr>\n",
       "  </tbody>\n",
       "</table>\n",
       "</div>"
      ],
      "text/plain": [
       "         count  nunique\n",
       "ZIPCODE                \n",
       "01702        1        1\n",
       "01742        1        1\n",
       "01752        1        1\n",
       "01757        1        1\n",
       "01760        1        1\n",
       "01890        1        1\n",
       "01904        1        1\n",
       "01915        1        1\n",
       "01960        1        1\n",
       "01970        1        1\n",
       "02062        1        1\n",
       "02111        1        1\n",
       "02114        3        3\n",
       "02115        2        2\n",
       "02118        2        2\n",
       "02120        1        1\n",
       "02124        1        1\n",
       "02130        1        1\n",
       "02135        1        1\n",
       "02138        1        1\n",
       "02139        1        1\n",
       "02149        1        1\n",
       "02155        1        1\n",
       "02176        1        1\n",
       "02186        1        1\n",
       "02190        1        1\n",
       "02215        3        3\n",
       "02462        1        1"
      ]
     },
     "execution_count": 45,
     "metadata": {},
     "output_type": "execute_result"
    }
   ],
   "source": [
    "#Summary for number of hospitals per zipcode area\n",
    "count_hospital = hospital_m['IDNUMBER'].groupby(hospital_m['ZIPCODE']).agg(['count','nunique'])\n",
    "count_hospital"
   ]
  },
  {
   "cell_type": "code",
   "execution_count": 46,
   "id": "24736d0f-80f5-4e19-90ca-e7a4b720c81c",
   "metadata": {},
   "outputs": [
    {
     "data": {
      "text/plain": [
       "pandas.core.frame.DataFrame"
      ]
     },
     "execution_count": 46,
     "metadata": {},
     "output_type": "execute_result"
    }
   ],
   "source": [
    "#Map the location of each hospital\n",
    "type(hospital_m)"
   ]
  },
  {
   "cell_type": "code",
   "execution_count": 47,
   "id": "45ebc7dc-30c1-45fe-9426-57848c448982",
   "metadata": {},
   "outputs": [],
   "source": [
    "from shapely.geometry import Point\n",
    "from geopandas import GeoDataFrame\n",
    "hospital_g = GeoDataFrame(hospital_m, geometry=hospital_m['geometry_x']) "
   ]
  },
  {
   "cell_type": "code",
   "execution_count": 48,
   "id": "8db64f8a-afeb-43e2-829f-16b853804e7f",
   "metadata": {},
   "outputs": [
    {
     "data": {
      "text/plain": [
       "<AxesSubplot:>"
      ]
     },
     "execution_count": 48,
     "metadata": {},
     "output_type": "execute_result"
    },
    {
     "data": {
      "image/png": "[encoded data removed]",
      "text/plain": [
       "<Figure size 432x288 with 1 Axes>"
      ]
     },
     "metadata": {
      "needs_background": "light"
     },
     "output_type": "display_data"
    }
   ],
   "source": [
    "hospital_g.plot(column = \"IDNUMBER\",ax=zcta_boston.plot())"
   ]
  },
  {
   "cell_type": "code",
   "execution_count": 49,
   "id": "7099c995-8fd5-44d6-8dba-5afbf7c6bc25",
   "metadata": {},
   "outputs": [
    {
     "data": {
      "text/html": [
       "<div>\n",
       "<style scoped>\n",
       "    .dataframe tbody tr th:only-of-type {\n",
       "        vertical-align: middle;\n",
       "    }\n",
       "\n",
       "    .dataframe tbody tr th {\n",
       "        vertical-align: top;\n",
       "    }\n",
       "\n",
       "    .dataframe thead th {\n",
       "        text-align: right;\n",
       "    }\n",
       "</style>\n",
       "<table border=\"1\" class=\"dataframe\">\n",
       "  <thead>\n",
       "    <tr style=\"text-align: right;\">\n",
       "      <th></th>\n",
       "      <th>STATEFP10</th>\n",
       "      <th>ZCTA5CE10</th>\n",
       "      <th>GEOID10</th>\n",
       "      <th>CLASSFP10</th>\n",
       "      <th>MTFCC10</th>\n",
       "      <th>FUNCSTAT10</th>\n",
       "      <th>ALAND10</th>\n",
       "      <th>AWATER10</th>\n",
       "      <th>INTPTLAT10</th>\n",
       "      <th>INTPTLON10</th>\n",
       "      <th>PARTFLG10</th>\n",
       "      <th>geometry</th>\n",
       "      <th>count</th>\n",
       "      <th>nunique</th>\n",
       "    </tr>\n",
       "  </thead>\n",
       "  <tbody>\n",
       "    <tr>\n",
       "      <th>0</th>\n",
       "      <td>25</td>\n",
       "      <td>01904</td>\n",
       "      <td>2501904</td>\n",
       "      <td>B5</td>\n",
       "      <td>G6350</td>\n",
       "      <td>S</td>\n",
       "      <td>11708211</td>\n",
       "      <td>1303900</td>\n",
       "      <td>+42.4924563</td>\n",
       "      <td>-070.9739297</td>\n",
       "      <td>N</td>\n",
       "      <td>POLYGON ((-7897468.553 5233487.096, -7897513.7...</td>\n",
       "      <td>1</td>\n",
       "      <td>1</td>\n",
       "    </tr>\n",
       "    <tr>\n",
       "      <th>1</th>\n",
       "      <td>25</td>\n",
       "      <td>01915</td>\n",
       "      <td>2501915</td>\n",
       "      <td>B5</td>\n",
       "      <td>G6350</td>\n",
       "      <td>S</td>\n",
       "      <td>39091336</td>\n",
       "      <td>3958118</td>\n",
       "      <td>+42.5702688</td>\n",
       "      <td>-070.8669962</td>\n",
       "      <td>N</td>\n",
       "      <td>MULTIPOLYGON (((-7890462.043 5249910.060, -788...</td>\n",
       "      <td>1</td>\n",
       "      <td>1</td>\n",
       "    </tr>\n",
       "  </tbody>\n",
       "</table>\n",
       "</div>"
      ],
      "text/plain": [
       "  STATEFP10 ZCTA5CE10  GEOID10 CLASSFP10 MTFCC10 FUNCSTAT10   ALAND10  \\\n",
       "0        25     01904  2501904        B5   G6350          S  11708211   \n",
       "1        25     01915  2501915        B5   G6350          S  39091336   \n",
       "\n",
       "   AWATER10   INTPTLAT10    INTPTLON10 PARTFLG10  \\\n",
       "0   1303900  +42.4924563  -070.9739297         N   \n",
       "1   3958118  +42.5702688  -070.8669962         N   \n",
       "\n",
       "                                            geometry  count  nunique  \n",
       "0  POLYGON ((-7897468.553 5233487.096, -7897513.7...      1        1  \n",
       "1  MULTIPOLYGON (((-7890462.043 5249910.060, -788...      1        1  "
      ]
     },
     "execution_count": 49,
     "metadata": {},
     "output_type": "execute_result"
    }
   ],
   "source": [
    "#choropleth map\n",
    "spatial_hos = zcta_boston.merge(count_hospital,left_on='ZCTA5CE10', right_on='ZIPCODE')\n",
    "spatial_hos.head(2)"
   ]
  },
  {
   "cell_type": "code",
   "execution_count": 50,
   "id": "badf2e03-7395-435a-b79f-4d4bba039cee",
   "metadata": {},
   "outputs": [
    {
     "data": {
      "text/plain": [
       "True"
      ]
     },
     "execution_count": 50,
     "metadata": {},
     "output_type": "execute_result"
    }
   ],
   "source": [
    "zcta_boston.crs == spatial_hos.crs"
   ]
  },
  {
   "cell_type": "code",
   "execution_count": 51,
   "id": "849d2144-f74a-4679-8166-11cae3a84309",
   "metadata": {},
   "outputs": [
    {
     "data": {
      "text/html": [
       "<div>\n",
       "<style scoped>\n",
       "    .dataframe tbody tr th:only-of-type {\n",
       "        vertical-align: middle;\n",
       "    }\n",
       "\n",
       "    .dataframe tbody tr th {\n",
       "        vertical-align: top;\n",
       "    }\n",
       "\n",
       "    .dataframe thead th {\n",
       "        text-align: right;\n",
       "    }\n",
       "</style>\n",
       "<table border=\"1\" class=\"dataframe\">\n",
       "  <thead>\n",
       "    <tr style=\"text-align: right;\">\n",
       "      <th></th>\n",
       "      <th>STATEFP10_left</th>\n",
       "      <th>ZCTA5CE10_left</th>\n",
       "      <th>GEOID10_left</th>\n",
       "      <th>CLASSFP10_left</th>\n",
       "      <th>MTFCC10_left</th>\n",
       "      <th>FUNCSTAT10_left</th>\n",
       "      <th>ALAND10_left</th>\n",
       "      <th>AWATER10_left</th>\n",
       "      <th>INTPTLAT10_left</th>\n",
       "      <th>INTPTLON10_left</th>\n",
       "      <th>...</th>\n",
       "      <th>CLASSFP10_right</th>\n",
       "      <th>MTFCC10_right</th>\n",
       "      <th>FUNCSTAT10_right</th>\n",
       "      <th>ALAND10_right</th>\n",
       "      <th>AWATER10_right</th>\n",
       "      <th>INTPTLAT10_right</th>\n",
       "      <th>INTPTLON10_right</th>\n",
       "      <th>PARTFLG10_right</th>\n",
       "      <th>count</th>\n",
       "      <th>nunique</th>\n",
       "    </tr>\n",
       "  </thead>\n",
       "  <tbody>\n",
       "    <tr>\n",
       "      <th>17</th>\n",
       "      <td>25</td>\n",
       "      <td>01905</td>\n",
       "      <td>2501905</td>\n",
       "      <td>B5</td>\n",
       "      <td>G6350</td>\n",
       "      <td>S</td>\n",
       "      <td>9219345</td>\n",
       "      <td>1195154</td>\n",
       "      <td>+42.4659985</td>\n",
       "      <td>-070.9757922</td>\n",
       "      <td>...</td>\n",
       "      <td>NaN</td>\n",
       "      <td>NaN</td>\n",
       "      <td>NaN</td>\n",
       "      <td>NaN</td>\n",
       "      <td>NaN</td>\n",
       "      <td>NaN</td>\n",
       "      <td>NaN</td>\n",
       "      <td>NaN</td>\n",
       "      <td>NaN</td>\n",
       "      <td>NaN</td>\n",
       "    </tr>\n",
       "    <tr>\n",
       "      <th>18</th>\n",
       "      <td>25</td>\n",
       "      <td>01904</td>\n",
       "      <td>2501904</td>\n",
       "      <td>B5</td>\n",
       "      <td>G6350</td>\n",
       "      <td>S</td>\n",
       "      <td>11708211</td>\n",
       "      <td>1303900</td>\n",
       "      <td>+42.4924563</td>\n",
       "      <td>-070.9739297</td>\n",
       "      <td>...</td>\n",
       "      <td>B5</td>\n",
       "      <td>G6350</td>\n",
       "      <td>S</td>\n",
       "      <td>11708211.0</td>\n",
       "      <td>1303900.0</td>\n",
       "      <td>+42.4924563</td>\n",
       "      <td>-070.9739297</td>\n",
       "      <td>N</td>\n",
       "      <td>1.0</td>\n",
       "      <td>1.0</td>\n",
       "    </tr>\n",
       "    <tr>\n",
       "      <th>21</th>\n",
       "      <td>25</td>\n",
       "      <td>01915</td>\n",
       "      <td>2501915</td>\n",
       "      <td>B5</td>\n",
       "      <td>G6350</td>\n",
       "      <td>S</td>\n",
       "      <td>39091336</td>\n",
       "      <td>3958118</td>\n",
       "      <td>+42.5702688</td>\n",
       "      <td>-070.8669962</td>\n",
       "      <td>...</td>\n",
       "      <td>B5</td>\n",
       "      <td>G6350</td>\n",
       "      <td>S</td>\n",
       "      <td>39091336.0</td>\n",
       "      <td>3958118.0</td>\n",
       "      <td>+42.5702688</td>\n",
       "      <td>-070.8669962</td>\n",
       "      <td>N</td>\n",
       "      <td>1.0</td>\n",
       "      <td>1.0</td>\n",
       "    </tr>\n",
       "    <tr>\n",
       "      <th>35</th>\n",
       "      <td>25</td>\n",
       "      <td>02462</td>\n",
       "      <td>2502462</td>\n",
       "      <td>B5</td>\n",
       "      <td>G6350</td>\n",
       "      <td>S</td>\n",
       "      <td>1369318</td>\n",
       "      <td>69749</td>\n",
       "      <td>+42.3287076</td>\n",
       "      <td>-071.2559002</td>\n",
       "      <td>...</td>\n",
       "      <td>B5</td>\n",
       "      <td>G6350</td>\n",
       "      <td>S</td>\n",
       "      <td>1369318.0</td>\n",
       "      <td>69749.0</td>\n",
       "      <td>+42.3287076</td>\n",
       "      <td>-071.2559002</td>\n",
       "      <td>N</td>\n",
       "      <td>1.0</td>\n",
       "      <td>1.0</td>\n",
       "    </tr>\n",
       "    <tr>\n",
       "      <th>37</th>\n",
       "      <td>25</td>\n",
       "      <td>01760</td>\n",
       "      <td>2501760</td>\n",
       "      <td>B5</td>\n",
       "      <td>G6350</td>\n",
       "      <td>S</td>\n",
       "      <td>38359306</td>\n",
       "      <td>2599042</td>\n",
       "      <td>+42.2848223</td>\n",
       "      <td>-071.3488109</td>\n",
       "      <td>...</td>\n",
       "      <td>B5</td>\n",
       "      <td>G6350</td>\n",
       "      <td>S</td>\n",
       "      <td>38359306.0</td>\n",
       "      <td>2599042.0</td>\n",
       "      <td>+42.2848223</td>\n",
       "      <td>-071.3488109</td>\n",
       "      <td>N</td>\n",
       "      <td>1.0</td>\n",
       "      <td>1.0</td>\n",
       "    </tr>\n",
       "  </tbody>\n",
       "</table>\n",
       "<p>5 rows × 26 columns</p>\n",
       "</div>"
      ],
      "text/plain": [
       "   STATEFP10_left ZCTA5CE10_left GEOID10_left CLASSFP10_left MTFCC10_left  \\\n",
       "17             25          01905      2501905             B5        G6350   \n",
       "18             25          01904      2501904             B5        G6350   \n",
       "21             25          01915      2501915             B5        G6350   \n",
       "35             25          02462      2502462             B5        G6350   \n",
       "37             25          01760      2501760             B5        G6350   \n",
       "\n",
       "   FUNCSTAT10_left  ALAND10_left  AWATER10_left INTPTLAT10_left  \\\n",
       "17               S       9219345        1195154     +42.4659985   \n",
       "18               S      11708211        1303900     +42.4924563   \n",
       "21               S      39091336        3958118     +42.5702688   \n",
       "35               S       1369318          69749     +42.3287076   \n",
       "37               S      38359306        2599042     +42.2848223   \n",
       "\n",
       "   INTPTLON10_left  ... CLASSFP10_right MTFCC10_right  FUNCSTAT10_right  \\\n",
       "17    -070.9757922  ...             NaN           NaN               NaN   \n",
       "18    -070.9739297  ...              B5         G6350                 S   \n",
       "21    -070.8669962  ...              B5         G6350                 S   \n",
       "35    -071.2559002  ...              B5         G6350                 S   \n",
       "37    -071.3488109  ...              B5         G6350                 S   \n",
       "\n",
       "   ALAND10_right AWATER10_right INTPTLAT10_right INTPTLON10_right  \\\n",
       "17           NaN            NaN              NaN              NaN   \n",
       "18    11708211.0      1303900.0      +42.4924563     -070.9739297   \n",
       "21    39091336.0      3958118.0      +42.5702688     -070.8669962   \n",
       "35     1369318.0        69749.0      +42.3287076     -071.2559002   \n",
       "37    38359306.0      2599042.0      +42.2848223     -071.3488109   \n",
       "\n",
       "   PARTFLG10_right count  nunique  \n",
       "17             NaN   NaN      NaN  \n",
       "18               N   1.0      1.0  \n",
       "21               N   1.0      1.0  \n",
       "35               N   1.0      1.0  \n",
       "37               N   1.0      1.0  \n",
       "\n",
       "[5 rows x 26 columns]"
      ]
     },
     "execution_count": 51,
     "metadata": {},
     "output_type": "execute_result"
    }
   ],
   "source": [
    "#Spatial Join\n",
    "hospital_join = gpd.sjoin(zcta_boston,spatial_hos, how='left', op='contains', lsuffix='left', rsuffix='right')\n",
    "hospital_join.head()"
   ]
  },
  {
   "cell_type": "code",
   "execution_count": 52,
   "id": "5c87d2dc-2b3a-4e94-a362-8cb9a8cbde92",
   "metadata": {},
   "outputs": [],
   "source": [
    "#Replace missing values with 0\n",
    "hospital_join.fillna(0, inplace=True)"
   ]
  },
  {
   "cell_type": "code",
   "execution_count": 53,
   "id": "339fda79-4426-4687-811a-f2dbb192bf74",
   "metadata": {},
   "outputs": [
    {
     "data": {
      "text/plain": [
       "<AxesSubplot:>"
      ]
     },
     "execution_count": 53,
     "metadata": {},
     "output_type": "execute_result"
    },
    {
     "data": {
      "image/png": "[encoded data removed]",
      "text/plain": [
       "<Figure size 432x288 with 2 Axes>"
      ]
     },
     "metadata": {
      "needs_background": "light"
     },
     "output_type": "display_data"
    }
   ],
   "source": [
    "#Do the map\n",
    "hospital_join.plot(column = 'count',legend=True)"
   ]
  },
  {
   "cell_type": "code",
   "execution_count": 54,
   "id": "9b0a572f-6f6c-4bbb-aa75-2ad038df22a4",
   "metadata": {},
   "outputs": [],
   "source": [
    "spatial_count = hospital_join[['ZCTA5CE10_left','count']]"
   ]
  },
  {
   "cell_type": "code",
   "execution_count": 55,
   "id": "0c815bd2-5037-4a55-b664-c1f64e90ccc6",
   "metadata": {},
   "outputs": [],
   "source": [
    "spatial_count_1 = spatial_count.sort_values('count',ascending=False)"
   ]
  },
  {
   "cell_type": "code",
   "execution_count": 56,
   "id": "7640a634-1314-4066-89dc-9a95f02b579d",
   "metadata": {},
   "outputs": [
    {
     "data": {
      "text/html": [
       "<div>\n",
       "<style scoped>\n",
       "    .dataframe tbody tr th:only-of-type {\n",
       "        vertical-align: middle;\n",
       "    }\n",
       "\n",
       "    .dataframe tbody tr th {\n",
       "        vertical-align: top;\n",
       "    }\n",
       "\n",
       "    .dataframe thead th {\n",
       "        text-align: right;\n",
       "    }\n",
       "</style>\n",
       "<table border=\"1\" class=\"dataframe\">\n",
       "  <thead>\n",
       "    <tr style=\"text-align: right;\">\n",
       "      <th></th>\n",
       "      <th>ZCTA5CE10_left</th>\n",
       "      <th>count</th>\n",
       "    </tr>\n",
       "  </thead>\n",
       "  <tbody>\n",
       "    <tr>\n",
       "      <th>318</th>\n",
       "      <td>02114</td>\n",
       "      <td>3.0</td>\n",
       "    </tr>\n",
       "    <tr>\n",
       "      <th>522</th>\n",
       "      <td>02215</td>\n",
       "      <td>3.0</td>\n",
       "    </tr>\n",
       "    <tr>\n",
       "      <th>186</th>\n",
       "      <td>02115</td>\n",
       "      <td>2.0</td>\n",
       "    </tr>\n",
       "    <tr>\n",
       "      <th>53</th>\n",
       "      <td>02118</td>\n",
       "      <td>2.0</td>\n",
       "    </tr>\n",
       "    <tr>\n",
       "      <th>316</th>\n",
       "      <td>02124</td>\n",
       "      <td>1.0</td>\n",
       "    </tr>\n",
       "    <tr>\n",
       "      <th>...</th>\n",
       "      <td>...</td>\n",
       "      <td>...</td>\n",
       "    </tr>\n",
       "    <tr>\n",
       "      <th>230</th>\n",
       "      <td>02460</td>\n",
       "      <td>0.0</td>\n",
       "    </tr>\n",
       "    <tr>\n",
       "      <th>231</th>\n",
       "      <td>02451</td>\n",
       "      <td>0.0</td>\n",
       "    </tr>\n",
       "    <tr>\n",
       "      <th>232</th>\n",
       "      <td>01731</td>\n",
       "      <td>0.0</td>\n",
       "    </tr>\n",
       "    <tr>\n",
       "      <th>233</th>\n",
       "      <td>01741</td>\n",
       "      <td>0.0</td>\n",
       "    </tr>\n",
       "    <tr>\n",
       "      <th>529</th>\n",
       "      <td>02151</td>\n",
       "      <td>0.0</td>\n",
       "    </tr>\n",
       "  </tbody>\n",
       "</table>\n",
       "<p>164 rows × 2 columns</p>\n",
       "</div>"
      ],
      "text/plain": [
       "    ZCTA5CE10_left  count\n",
       "318          02114    3.0\n",
       "522          02215    3.0\n",
       "186          02115    2.0\n",
       "53           02118    2.0\n",
       "316          02124    1.0\n",
       "..             ...    ...\n",
       "230          02460    0.0\n",
       "231          02451    0.0\n",
       "232          01731    0.0\n",
       "233          01741    0.0\n",
       "529          02151    0.0\n",
       "\n",
       "[164 rows x 2 columns]"
      ]
     },
     "execution_count": 56,
     "metadata": {},
     "output_type": "execute_result"
    }
   ],
   "source": [
    "spatial_count_1"
   ]
  },
  {
   "cell_type": "code",
   "execution_count": 57,
   "id": "4c3f9828-731e-481c-8b3f-71892f605945",
   "metadata": {},
   "outputs": [
    {
     "data": {
      "text/html": [
       "<div>\n",
       "<style scoped>\n",
       "    .dataframe tbody tr th:only-of-type {\n",
       "        vertical-align: middle;\n",
       "    }\n",
       "\n",
       "    .dataframe tbody tr th {\n",
       "        vertical-align: top;\n",
       "    }\n",
       "\n",
       "    .dataframe thead th {\n",
       "        text-align: right;\n",
       "    }\n",
       "</style>\n",
       "<table border=\"1\" class=\"dataframe\">\n",
       "  <thead>\n",
       "    <tr style=\"text-align: right;\">\n",
       "      <th></th>\n",
       "      <th>ZCTA5CE10_left</th>\n",
       "      <th>count</th>\n",
       "    </tr>\n",
       "  </thead>\n",
       "  <tbody>\n",
       "    <tr>\n",
       "      <th>318</th>\n",
       "      <td>02114</td>\n",
       "      <td>3.0</td>\n",
       "    </tr>\n",
       "    <tr>\n",
       "      <th>522</th>\n",
       "      <td>02215</td>\n",
       "      <td>3.0</td>\n",
       "    </tr>\n",
       "  </tbody>\n",
       "</table>\n",
       "</div>"
      ],
      "text/plain": [
       "    ZCTA5CE10_left  count\n",
       "318          02114    3.0\n",
       "522          02215    3.0"
      ]
     },
     "execution_count": 57,
     "metadata": {},
     "output_type": "execute_result"
    }
   ],
   "source": [
    "#ZCTA with highest rank\n",
    "spatial_count_highest = spatial_count_1[spatial_count_1['count']== 3.0]\n",
    "spatial_count_highest"
   ]
  },
  {
   "cell_type": "code",
   "execution_count": 58,
   "id": "3bb3ec39-04d6-4d62-8b1d-02054a2f72ed",
   "metadata": {},
   "outputs": [],
   "source": [
    "#We want to replace the missing value with 0 so that we can take a look at counties without hospitals.\n",
    "spatial_count_1.fillna(0, inplace=True)"
   ]
  },
  {
   "cell_type": "code",
   "execution_count": 59,
   "id": "dbabd7d8-0af4-4e8b-ba93-9c225f448574",
   "metadata": {},
   "outputs": [
    {
     "data": {
      "text/html": [
       "<div>\n",
       "<style scoped>\n",
       "    .dataframe tbody tr th:only-of-type {\n",
       "        vertical-align: middle;\n",
       "    }\n",
       "\n",
       "    .dataframe tbody tr th {\n",
       "        vertical-align: top;\n",
       "    }\n",
       "\n",
       "    .dataframe thead th {\n",
       "        text-align: right;\n",
       "    }\n",
       "</style>\n",
       "<table border=\"1\" class=\"dataframe\">\n",
       "  <thead>\n",
       "    <tr style=\"text-align: right;\">\n",
       "      <th></th>\n",
       "      <th>ZCTA5CE10_left</th>\n",
       "      <th>count</th>\n",
       "    </tr>\n",
       "  </thead>\n",
       "  <tbody>\n",
       "    <tr>\n",
       "      <th>318</th>\n",
       "      <td>02114</td>\n",
       "      <td>3.0</td>\n",
       "    </tr>\n",
       "    <tr>\n",
       "      <th>522</th>\n",
       "      <td>02215</td>\n",
       "      <td>3.0</td>\n",
       "    </tr>\n",
       "    <tr>\n",
       "      <th>186</th>\n",
       "      <td>02115</td>\n",
       "      <td>2.0</td>\n",
       "    </tr>\n",
       "    <tr>\n",
       "      <th>53</th>\n",
       "      <td>02118</td>\n",
       "      <td>2.0</td>\n",
       "    </tr>\n",
       "    <tr>\n",
       "      <th>316</th>\n",
       "      <td>02124</td>\n",
       "      <td>1.0</td>\n",
       "    </tr>\n",
       "    <tr>\n",
       "      <th>...</th>\n",
       "      <td>...</td>\n",
       "      <td>...</td>\n",
       "    </tr>\n",
       "    <tr>\n",
       "      <th>230</th>\n",
       "      <td>02460</td>\n",
       "      <td>0.0</td>\n",
       "    </tr>\n",
       "    <tr>\n",
       "      <th>231</th>\n",
       "      <td>02451</td>\n",
       "      <td>0.0</td>\n",
       "    </tr>\n",
       "    <tr>\n",
       "      <th>232</th>\n",
       "      <td>01731</td>\n",
       "      <td>0.0</td>\n",
       "    </tr>\n",
       "    <tr>\n",
       "      <th>233</th>\n",
       "      <td>01741</td>\n",
       "      <td>0.0</td>\n",
       "    </tr>\n",
       "    <tr>\n",
       "      <th>529</th>\n",
       "      <td>02151</td>\n",
       "      <td>0.0</td>\n",
       "    </tr>\n",
       "  </tbody>\n",
       "</table>\n",
       "<p>164 rows × 2 columns</p>\n",
       "</div>"
      ],
      "text/plain": [
       "    ZCTA5CE10_left  count\n",
       "318          02114    3.0\n",
       "522          02215    3.0\n",
       "186          02115    2.0\n",
       "53           02118    2.0\n",
       "316          02124    1.0\n",
       "..             ...    ...\n",
       "230          02460    0.0\n",
       "231          02451    0.0\n",
       "232          01731    0.0\n",
       "233          01741    0.0\n",
       "529          02151    0.0\n",
       "\n",
       "[164 rows x 2 columns]"
      ]
     },
     "execution_count": 59,
     "metadata": {},
     "output_type": "execute_result"
    }
   ],
   "source": [
    "spatial_count_1"
   ]
  },
  {
   "cell_type": "code",
   "execution_count": 60,
   "id": "bad47a55-dd09-4f6c-b7d9-8d2c92dfdc73",
   "metadata": {},
   "outputs": [],
   "source": [
    "#ZCTA with lowest rank\n",
    "spatial_count_lowest = spatial_count_1[spatial_count_1['count'] == 0]"
   ]
  },
  {
   "cell_type": "code",
   "execution_count": 61,
   "id": "184fc82c-3ad3-4cd6-9374-a2bbf067f4a3",
   "metadata": {},
   "outputs": [
    {
     "data": {
      "text/html": [
       "<div>\n",
       "<style scoped>\n",
       "    .dataframe tbody tr th:only-of-type {\n",
       "        vertical-align: middle;\n",
       "    }\n",
       "\n",
       "    .dataframe tbody tr th {\n",
       "        vertical-align: top;\n",
       "    }\n",
       "\n",
       "    .dataframe thead th {\n",
       "        text-align: right;\n",
       "    }\n",
       "</style>\n",
       "<table border=\"1\" class=\"dataframe\">\n",
       "  <thead>\n",
       "    <tr style=\"text-align: right;\">\n",
       "      <th></th>\n",
       "      <th>ZCTA5CE10_left</th>\n",
       "      <th>count</th>\n",
       "    </tr>\n",
       "  </thead>\n",
       "  <tbody>\n",
       "    <tr>\n",
       "      <th>385</th>\n",
       "      <td>02056</td>\n",
       "      <td>0.0</td>\n",
       "    </tr>\n",
       "    <tr>\n",
       "      <th>384</th>\n",
       "      <td>02171</td>\n",
       "      <td>0.0</td>\n",
       "    </tr>\n",
       "    <tr>\n",
       "      <th>380</th>\n",
       "      <td>02019</td>\n",
       "      <td>0.0</td>\n",
       "    </tr>\n",
       "    <tr>\n",
       "      <th>383</th>\n",
       "      <td>02170</td>\n",
       "      <td>0.0</td>\n",
       "    </tr>\n",
       "    <tr>\n",
       "      <th>319</th>\n",
       "      <td>02108</td>\n",
       "      <td>0.0</td>\n",
       "    </tr>\n",
       "    <tr>\n",
       "      <th>...</th>\n",
       "      <td>...</td>\n",
       "      <td>...</td>\n",
       "    </tr>\n",
       "    <tr>\n",
       "      <th>230</th>\n",
       "      <td>02460</td>\n",
       "      <td>0.0</td>\n",
       "    </tr>\n",
       "    <tr>\n",
       "      <th>231</th>\n",
       "      <td>02451</td>\n",
       "      <td>0.0</td>\n",
       "    </tr>\n",
       "    <tr>\n",
       "      <th>232</th>\n",
       "      <td>01731</td>\n",
       "      <td>0.0</td>\n",
       "    </tr>\n",
       "    <tr>\n",
       "      <th>233</th>\n",
       "      <td>01741</td>\n",
       "      <td>0.0</td>\n",
       "    </tr>\n",
       "    <tr>\n",
       "      <th>529</th>\n",
       "      <td>02151</td>\n",
       "      <td>0.0</td>\n",
       "    </tr>\n",
       "  </tbody>\n",
       "</table>\n",
       "<p>136 rows × 2 columns</p>\n",
       "</div>"
      ],
      "text/plain": [
       "    ZCTA5CE10_left  count\n",
       "385          02056    0.0\n",
       "384          02171    0.0\n",
       "380          02019    0.0\n",
       "383          02170    0.0\n",
       "319          02108    0.0\n",
       "..             ...    ...\n",
       "230          02460    0.0\n",
       "231          02451    0.0\n",
       "232          01731    0.0\n",
       "233          01741    0.0\n",
       "529          02151    0.0\n",
       "\n",
       "[136 rows x 2 columns]"
      ]
     },
     "execution_count": 61,
     "metadata": {},
     "output_type": "execute_result"
    }
   ],
   "source": [
    "spatial_count_lowest"
   ]
  },
  {
   "cell_type": "markdown",
   "id": "e5afd7a9-d7cd-477a-81d7-9843ac188911",
   "metadata": {},
   "source": [
    "There are 136 zipcodes which don't have hospitals within the zipcode area."
   ]
  },
  {
   "cell_type": "code",
   "execution_count": 167,
   "id": "df8f897b-c8d8-4bb8-96be-e5ef702a30db",
   "metadata": {},
   "outputs": [],
   "source": [
    "hospital_join['reclassify']=np.NaN"
   ]
  },
  {
   "cell_type": "code",
   "execution_count": 169,
   "id": "043b4f07-297d-4bef-bcd9-0546f483fda7",
   "metadata": {},
   "outputs": [],
   "source": [
    "#Reclassification\n",
    "hospital_join.loc[hospital_join['count']==0,'reclassify']=1\n",
    "hospital_join.loc[hospital_join['count']==1,'reclassify']=3\n",
    "hospital_join.loc[hospital_join['count']==2,'reclassify']=4\n",
    "hospital_join.loc[hospital_join['count']==3,'reclassify']=5"
   ]
  },
  {
   "cell_type": "code",
   "execution_count": 170,
   "id": "6b9d37e8-4bea-4921-af98-82fb539c2603",
   "metadata": {},
   "outputs": [
    {
     "data": {
      "text/plain": [
       "<AxesSubplot:>"
      ]
     },
     "execution_count": 170,
     "metadata": {},
     "output_type": "execute_result"
    },
    {
     "data": {
      "image/png": "[encoded data removed]",
      "text/plain": [
       "<Figure size 432x288 with 2 Axes>"
      ]
     },
     "metadata": {
      "needs_background": "light"
     },
     "output_type": "display_data"
    }
   ],
   "source": [
    "hospital_join.plot(column = 'reclassify',legend=True)"
   ]
  },
  {
   "cell_type": "markdown",
   "id": "07b85211-abb7-4e9c-802e-cde22a83056a",
   "metadata": {},
   "source": [
    "I will next rasterize these hospitals."
   ]
  },
  {
   "cell_type": "code",
   "execution_count": 176,
   "id": "4feaf429-bc2c-4072-8e2f-ab93fb74df9f",
   "metadata": {},
   "outputs": [],
   "source": [
    "hospital_1=hospital_join[['ZCTA5CE10_left','geometry','count','reclassify']]"
   ]
  },
  {
   "cell_type": "code",
   "execution_count": 177,
   "id": "dc704027-f577-452c-9446-c9dcb2f1b0f7",
   "metadata": {},
   "outputs": [
    {
     "data": {
      "text/plain": [
       "<Projected CRS: EPSG:3857>\n",
       "Name: WGS 84 / Pseudo-Mercator\n",
       "Axis Info [cartesian]:\n",
       "- X[east]: Easting (metre)\n",
       "- Y[north]: Northing (metre)\n",
       "Area of Use:\n",
       "- name: World between 85.06°S and 85.06°N.\n",
       "- bounds: (-180.0, -85.06, 180.0, 85.06)\n",
       "Coordinate Operation:\n",
       "- name: Popular Visualisation Pseudo-Mercator\n",
       "- method: Popular Visualisation Pseudo Mercator\n",
       "Datum: World Geodetic System 1984 ensemble\n",
       "- Ellipsoid: WGS 84\n",
       "- Prime Meridian: Greenwich"
      ]
     },
     "execution_count": 177,
     "metadata": {},
     "output_type": "execute_result"
    }
   ],
   "source": [
    "hospital_1.crs"
   ]
  },
  {
   "cell_type": "markdown",
   "id": "f00f4bf2-c186-4461-b27f-8c5ed50ee09f",
   "metadata": {},
   "source": [
    "hospital_raster= features.rasterize(hospital_1['geometry'], out_shape=landcover_shape, fill=1, transform=landcover_transform, default_value=0)"
   ]
  },
  {
   "cell_type": "markdown",
   "id": "496349a6-1ab7-4807-8b79-d3963804e7d8",
   "metadata": {},
   "source": [
    "hospital_raster"
   ]
  },
  {
   "cell_type": "markdown",
   "id": "6165da1d-104c-41a2-bed3-3d7976b020e0",
   "metadata": {},
   "source": [
    "hos = hospital_m[['IDNUMBER','SHORTNAME','geometry']]"
   ]
  },
  {
   "cell_type": "markdown",
   "id": "2f7977f4-2689-4b01-adab-bc4cf57ea28c",
   "metadata": {},
   "source": [
    "hos.head()"
   ]
  },
  {
   "cell_type": "markdown",
   "id": "ae8a872b-fa70-4955-abca-01a080620bbe",
   "metadata": {},
   "source": [
    "hos_g = GeoDataFrame(hos, geometry=hos['geometry']) "
   ]
  },
  {
   "cell_type": "markdown",
   "id": "ac7f5d35-70eb-4a80-9bd0-6d11afdda8a6",
   "metadata": {},
   "source": [
    "hos_g.crs"
   ]
  },
  {
   "cell_type": "markdown",
   "id": "cda7c44e-5fd1-4ce9-bdcd-94aea74fd788",
   "metadata": {},
   "source": [
    "hg=hos_g.set_crs('epsg:4326')"
   ]
  },
  {
   "cell_type": "markdown",
   "id": "45fbb15d-029b-419c-b853-db3522efa4c4",
   "metadata": {},
   "source": [
    "hg.head(2)"
   ]
  },
  {
   "cell_type": "markdown",
   "id": "e73c5f88-b9c6-427d-b93d-2f27bb589c41",
   "metadata": {},
   "source": [
    "hg.crs"
   ]
  },
  {
   "cell_type": "markdown",
   "id": "12869bc6-8ded-46e4-8b65-422b9b7bde21",
   "metadata": {},
   "source": [
    "hos_g.plot(legend=True)\n",
    "plt.show()"
   ]
  },
  {
   "cell_type": "markdown",
   "id": "f501de1b-22a7-45ea-9c33-d3d7f5aa2364",
   "metadata": {},
   "source": [
    "hospital_raster= features.rasterize(hg['geometry'], out_shape=landcover_shape, fill=1, transform=landcover_transform, default_value=0)"
   ]
  },
  {
   "cell_type": "markdown",
   "id": "964f59c0-bdff-4977-b1e8-b87871ebf788",
   "metadata": {},
   "source": [
    "show(hospital_raster, transform=landcover_transform)\n",
    "plt.show()"
   ]
  },
  {
   "cell_type": "markdown",
   "id": "78b9c25f-0795-4167-92f9-bc6eaa00ca70",
   "metadata": {},
   "source": [
    "hos_distance = ndimage.distance_transform_edt(hospital_raster) * landcover_res[0]"
   ]
  },
  {
   "cell_type": "markdown",
   "id": "7fc3f638-d50a-42e7-acab-e34892384497",
   "metadata": {},
   "source": [
    "show(hos_distance, transform=landcover_transform)\n",
    "plt.show()"
   ]
  },
  {
   "cell_type": "markdown",
   "id": "a5061cbd-ca37-4825-b65e-749bdcae6c2d",
   "metadata": {},
   "source": [
    "School indicator"
   ]
  },
  {
   "cell_type": "code",
   "execution_count": 218,
   "id": "6601481c-9fbb-4d77-9b23-cc32e0fe030f",
   "metadata": {},
   "outputs": [],
   "source": [
    "School = gpd.read_file('Data/schools/SCHOOLS_PT.shp')"
   ]
  },
  {
   "cell_type": "code",
   "execution_count": 221,
   "id": "23d1c21e-340c-491f-870d-95af44d38304",
   "metadata": {},
   "outputs": [],
   "source": [
    "school=School.to_crs(zcta_boston.crs)"
   ]
  },
  {
   "cell_type": "code",
   "execution_count": 222,
   "id": "162618df-abe4-4d0d-a923-da72e2463913",
   "metadata": {},
   "outputs": [
    {
     "data": {
      "text/html": [
       "<div>\n",
       "<style scoped>\n",
       "    .dataframe tbody tr th:only-of-type {\n",
       "        vertical-align: middle;\n",
       "    }\n",
       "\n",
       "    .dataframe tbody tr th {\n",
       "        vertical-align: top;\n",
       "    }\n",
       "\n",
       "    .dataframe thead th {\n",
       "        text-align: right;\n",
       "    }\n",
       "</style>\n",
       "<table border=\"1\" class=\"dataframe\">\n",
       "  <thead>\n",
       "    <tr style=\"text-align: right;\">\n",
       "      <th></th>\n",
       "      <th>SCHID</th>\n",
       "      <th>NAME</th>\n",
       "      <th>ADDRESS</th>\n",
       "      <th>TOWN_MAIL</th>\n",
       "      <th>TOWN</th>\n",
       "      <th>ZIPCODE</th>\n",
       "      <th>PHONE</th>\n",
       "      <th>GRADES</th>\n",
       "      <th>TYPE</th>\n",
       "      <th>TYPE_DESC</th>\n",
       "      <th>...</th>\n",
       "      <th>GEOID10</th>\n",
       "      <th>CLASSFP10</th>\n",
       "      <th>MTFCC10</th>\n",
       "      <th>FUNCSTAT10</th>\n",
       "      <th>ALAND10</th>\n",
       "      <th>AWATER10</th>\n",
       "      <th>INTPTLAT10</th>\n",
       "      <th>INTPTLON10</th>\n",
       "      <th>PARTFLG10</th>\n",
       "      <th>geometry_y</th>\n",
       "    </tr>\n",
       "  </thead>\n",
       "  <tbody>\n",
       "    <tr>\n",
       "      <th>0</th>\n",
       "      <td>08780605</td>\n",
       "      <td>Tri-County Regional Vocational Technical High ...</td>\n",
       "      <td>147 Pond Street</td>\n",
       "      <td>Franklin</td>\n",
       "      <td>FRANKLIN</td>\n",
       "      <td>02038</td>\n",
       "      <td>508-528-5400</td>\n",
       "      <td>09,10,11,12</td>\n",
       "      <td>VOC</td>\n",
       "      <td>Public Voc/Tech/Ag Reg'l HS</td>\n",
       "      <td>...</td>\n",
       "      <td>2502038</td>\n",
       "      <td>B5</td>\n",
       "      <td>G6350</td>\n",
       "      <td>S</td>\n",
       "      <td>68961360</td>\n",
       "      <td>1038205</td>\n",
       "      <td>+42.0848585</td>\n",
       "      <td>-071.4105714</td>\n",
       "      <td>N</td>\n",
       "      <td>POLYGON ((-7945477.735 5178883.829, -7945313.8...</td>\n",
       "    </tr>\n",
       "    <tr>\n",
       "      <th>1</th>\n",
       "      <td>01010030</td>\n",
       "      <td>Oak Street Elementary School</td>\n",
       "      <td>224 Oak Street</td>\n",
       "      <td>Franklin</td>\n",
       "      <td>FRANKLIN</td>\n",
       "      <td>02038</td>\n",
       "      <td>508-541-7890</td>\n",
       "      <td>K,01,02,03,04,05</td>\n",
       "      <td>ELE</td>\n",
       "      <td>Public Elementary</td>\n",
       "      <td>...</td>\n",
       "      <td>2502038</td>\n",
       "      <td>B5</td>\n",
       "      <td>G6350</td>\n",
       "      <td>S</td>\n",
       "      <td>68961360</td>\n",
       "      <td>1038205</td>\n",
       "      <td>+42.0848585</td>\n",
       "      <td>-071.4105714</td>\n",
       "      <td>N</td>\n",
       "      <td>POLYGON ((-7945477.735 5178883.829, -7945313.8...</td>\n",
       "    </tr>\n",
       "  </tbody>\n",
       "</table>\n",
       "<p>2 rows × 27 columns</p>\n",
       "</div>"
      ],
      "text/plain": [
       "      SCHID                                               NAME  \\\n",
       "0  08780605  Tri-County Regional Vocational Technical High ...   \n",
       "1  01010030                       Oak Street Elementary School   \n",
       "\n",
       "           ADDRESS TOWN_MAIL      TOWN ZIPCODE         PHONE  \\\n",
       "0  147 Pond Street  Franklin  FRANKLIN   02038  508-528-5400   \n",
       "1   224 Oak Street  Franklin  FRANKLIN   02038  508-541-7890   \n",
       "\n",
       "             GRADES TYPE                    TYPE_DESC  ...  GEOID10 CLASSFP10  \\\n",
       "0       09,10,11,12  VOC  Public Voc/Tech/Ag Reg'l HS  ...  2502038        B5   \n",
       "1  K,01,02,03,04,05  ELE            Public Elementary  ...  2502038        B5   \n",
       "\n",
       "  MTFCC10 FUNCSTAT10   ALAND10 AWATER10   INTPTLAT10    INTPTLON10 PARTFLG10  \\\n",
       "0   G6350          S  68961360  1038205  +42.0848585  -071.4105714         N   \n",
       "1   G6350          S  68961360  1038205  +42.0848585  -071.4105714         N   \n",
       "\n",
       "                                          geometry_y  \n",
       "0  POLYGON ((-7945477.735 5178883.829, -7945313.8...  \n",
       "1  POLYGON ((-7945477.735 5178883.829, -7945313.8...  \n",
       "\n",
       "[2 rows x 27 columns]"
      ]
     },
     "execution_count": 222,
     "metadata": {},
     "output_type": "execute_result"
    }
   ],
   "source": [
    "#Join the two datasets\n",
    "school_m =school.merge(zcta_boston,left_on='ZIPCODE', right_on='ZCTA5CE10')\n",
    "school_m.head(2)"
   ]
  },
  {
   "cell_type": "code",
   "execution_count": 223,
   "id": "01213bf7-cd4d-41a5-8f1b-14ba5dfd7e7b",
   "metadata": {},
   "outputs": [],
   "source": [
    "from shapely.geometry import Point\n",
    "from geopandas import GeoDataFrame\n",
    "school_g = GeoDataFrame(school_m, geometry=school_m['geometry_x']) "
   ]
  },
  {
   "cell_type": "code",
   "execution_count": 224,
   "id": "4546ef20-7d6f-4e19-aac7-2f10a4a138f7",
   "metadata": {},
   "outputs": [
    {
     "data": {
      "text/plain": [
       "<AxesSubplot:>"
      ]
     },
     "execution_count": 224,
     "metadata": {},
     "output_type": "execute_result"
    },
    {
     "data": {
      "image/png": "[encoded data removed]",
      "text/plain": [
       "<Figure size 432x288 with 1 Axes>"
      ]
     },
     "metadata": {
      "needs_background": "light"
     },
     "output_type": "display_data"
    }
   ],
   "source": [
    "school_g.plot(column = \"SCHID\",ax=zcta_boston.plot())"
   ]
  },
  {
   "cell_type": "code",
   "execution_count": 227,
   "id": "8a9ed445-ab61-4d0f-ad14-2a82ec9a432c",
   "metadata": {},
   "outputs": [
    {
     "data": {
      "text/html": [
       "<div>\n",
       "<style scoped>\n",
       "    .dataframe tbody tr th:only-of-type {\n",
       "        vertical-align: middle;\n",
       "    }\n",
       "\n",
       "    .dataframe tbody tr th {\n",
       "        vertical-align: top;\n",
       "    }\n",
       "\n",
       "    .dataframe thead th {\n",
       "        text-align: right;\n",
       "    }\n",
       "</style>\n",
       "<table border=\"1\" class=\"dataframe\">\n",
       "  <thead>\n",
       "    <tr style=\"text-align: right;\">\n",
       "      <th></th>\n",
       "      <th>count</th>\n",
       "      <th>nunique</th>\n",
       "    </tr>\n",
       "    <tr>\n",
       "      <th>ZIPCODE</th>\n",
       "      <th></th>\n",
       "      <th></th>\n",
       "    </tr>\n",
       "  </thead>\n",
       "  <tbody>\n",
       "    <tr>\n",
       "      <th>01460</th>\n",
       "      <td>6</td>\n",
       "      <td>6</td>\n",
       "    </tr>\n",
       "    <tr>\n",
       "      <th>01701</th>\n",
       "      <td>21</td>\n",
       "      <td>21</td>\n",
       "    </tr>\n",
       "    <tr>\n",
       "      <th>01702</th>\n",
       "      <td>4</td>\n",
       "      <td>4</td>\n",
       "    </tr>\n",
       "    <tr>\n",
       "      <th>01719</th>\n",
       "      <td>1</td>\n",
       "      <td>1</td>\n",
       "    </tr>\n",
       "    <tr>\n",
       "      <th>01720</th>\n",
       "      <td>9</td>\n",
       "      <td>9</td>\n",
       "    </tr>\n",
       "    <tr>\n",
       "      <th>...</th>\n",
       "      <td>...</td>\n",
       "      <td>...</td>\n",
       "    </tr>\n",
       "    <tr>\n",
       "      <th>02481</th>\n",
       "      <td>7</td>\n",
       "      <td>7</td>\n",
       "    </tr>\n",
       "    <tr>\n",
       "      <th>02482</th>\n",
       "      <td>5</td>\n",
       "      <td>5</td>\n",
       "    </tr>\n",
       "    <tr>\n",
       "      <th>02492</th>\n",
       "      <td>10</td>\n",
       "      <td>10</td>\n",
       "    </tr>\n",
       "    <tr>\n",
       "      <th>02493</th>\n",
       "      <td>10</td>\n",
       "      <td>10</td>\n",
       "    </tr>\n",
       "    <tr>\n",
       "      <th>02494</th>\n",
       "      <td>5</td>\n",
       "      <td>5</td>\n",
       "    </tr>\n",
       "  </tbody>\n",
       "</table>\n",
       "<p>149 rows × 2 columns</p>\n",
       "</div>"
      ],
      "text/plain": [
       "         count  nunique\n",
       "ZIPCODE                \n",
       "01460        6        6\n",
       "01701       21       21\n",
       "01702        4        4\n",
       "01719        1        1\n",
       "01720        9        9\n",
       "...        ...      ...\n",
       "02481        7        7\n",
       "02482        5        5\n",
       "02492       10       10\n",
       "02493       10       10\n",
       "02494        5        5\n",
       "\n",
       "[149 rows x 2 columns]"
      ]
     },
     "execution_count": 227,
     "metadata": {},
     "output_type": "execute_result"
    }
   ],
   "source": [
    "#Summary for number of hospitals per zipcode area\n",
    "count_schools = school_m['SCHID'].groupby(school_m['ZIPCODE']).agg(['count','nunique'])\n",
    "count_schools"
   ]
  },
  {
   "cell_type": "code",
   "execution_count": 228,
   "id": "7dcf5d83-bdc0-43d0-a42c-89467136df89",
   "metadata": {},
   "outputs": [
    {
     "data": {
      "text/html": [
       "<div>\n",
       "<style scoped>\n",
       "    .dataframe tbody tr th:only-of-type {\n",
       "        vertical-align: middle;\n",
       "    }\n",
       "\n",
       "    .dataframe tbody tr th {\n",
       "        vertical-align: top;\n",
       "    }\n",
       "\n",
       "    .dataframe thead th {\n",
       "        text-align: right;\n",
       "    }\n",
       "</style>\n",
       "<table border=\"1\" class=\"dataframe\">\n",
       "  <thead>\n",
       "    <tr style=\"text-align: right;\">\n",
       "      <th></th>\n",
       "      <th>STATEFP10</th>\n",
       "      <th>ZCTA5CE10</th>\n",
       "      <th>GEOID10</th>\n",
       "      <th>CLASSFP10</th>\n",
       "      <th>MTFCC10</th>\n",
       "      <th>FUNCSTAT10</th>\n",
       "      <th>ALAND10</th>\n",
       "      <th>AWATER10</th>\n",
       "      <th>INTPTLAT10</th>\n",
       "      <th>INTPTLON10</th>\n",
       "      <th>PARTFLG10</th>\n",
       "      <th>geometry</th>\n",
       "      <th>count</th>\n",
       "      <th>nunique</th>\n",
       "    </tr>\n",
       "  </thead>\n",
       "  <tbody>\n",
       "    <tr>\n",
       "      <th>0</th>\n",
       "      <td>25</td>\n",
       "      <td>01905</td>\n",
       "      <td>2501905</td>\n",
       "      <td>B5</td>\n",
       "      <td>G6350</td>\n",
       "      <td>S</td>\n",
       "      <td>9219345</td>\n",
       "      <td>1195154</td>\n",
       "      <td>+42.4659985</td>\n",
       "      <td>-070.9757922</td>\n",
       "      <td>N</td>\n",
       "      <td>MULTIPOLYGON (((-7899944.411 5232206.578, -789...</td>\n",
       "      <td>11</td>\n",
       "      <td>11</td>\n",
       "    </tr>\n",
       "    <tr>\n",
       "      <th>1</th>\n",
       "      <td>25</td>\n",
       "      <td>01904</td>\n",
       "      <td>2501904</td>\n",
       "      <td>B5</td>\n",
       "      <td>G6350</td>\n",
       "      <td>S</td>\n",
       "      <td>11708211</td>\n",
       "      <td>1303900</td>\n",
       "      <td>+42.4924563</td>\n",
       "      <td>-070.9739297</td>\n",
       "      <td>N</td>\n",
       "      <td>POLYGON ((-7897468.553 5233487.096, -7897513.7...</td>\n",
       "      <td>7</td>\n",
       "      <td>7</td>\n",
       "    </tr>\n",
       "  </tbody>\n",
       "</table>\n",
       "</div>"
      ],
      "text/plain": [
       "  STATEFP10 ZCTA5CE10  GEOID10 CLASSFP10 MTFCC10 FUNCSTAT10   ALAND10  \\\n",
       "0        25     01905  2501905        B5   G6350          S   9219345   \n",
       "1        25     01904  2501904        B5   G6350          S  11708211   \n",
       "\n",
       "   AWATER10   INTPTLAT10    INTPTLON10 PARTFLG10  \\\n",
       "0   1195154  +42.4659985  -070.9757922         N   \n",
       "1   1303900  +42.4924563  -070.9739297         N   \n",
       "\n",
       "                                            geometry  count  nunique  \n",
       "0  MULTIPOLYGON (((-7899944.411 5232206.578, -789...     11       11  \n",
       "1  POLYGON ((-7897468.553 5233487.096, -7897513.7...      7        7  "
      ]
     },
     "execution_count": 228,
     "metadata": {},
     "output_type": "execute_result"
    }
   ],
   "source": [
    "spatial_sch = zcta_boston.merge(count_schools,left_on='ZCTA5CE10', right_on='ZIPCODE')\n",
    "spatial_sch.head(2)"
   ]
  },
  {
   "cell_type": "code",
   "execution_count": 229,
   "id": "5563aaca-1b06-498c-84b2-7366e5d288be",
   "metadata": {},
   "outputs": [
    {
     "data": {
      "text/html": [
       "<div>\n",
       "<style scoped>\n",
       "    .dataframe tbody tr th:only-of-type {\n",
       "        vertical-align: middle;\n",
       "    }\n",
       "\n",
       "    .dataframe tbody tr th {\n",
       "        vertical-align: top;\n",
       "    }\n",
       "\n",
       "    .dataframe thead th {\n",
       "        text-align: right;\n",
       "    }\n",
       "</style>\n",
       "<table border=\"1\" class=\"dataframe\">\n",
       "  <thead>\n",
       "    <tr style=\"text-align: right;\">\n",
       "      <th></th>\n",
       "      <th>STATEFP10_left</th>\n",
       "      <th>ZCTA5CE10_left</th>\n",
       "      <th>GEOID10_left</th>\n",
       "      <th>CLASSFP10_left</th>\n",
       "      <th>MTFCC10_left</th>\n",
       "      <th>FUNCSTAT10_left</th>\n",
       "      <th>ALAND10_left</th>\n",
       "      <th>AWATER10_left</th>\n",
       "      <th>INTPTLAT10_left</th>\n",
       "      <th>INTPTLON10_left</th>\n",
       "      <th>...</th>\n",
       "      <th>CLASSFP10_right</th>\n",
       "      <th>MTFCC10_right</th>\n",
       "      <th>FUNCSTAT10_right</th>\n",
       "      <th>ALAND10_right</th>\n",
       "      <th>AWATER10_right</th>\n",
       "      <th>INTPTLAT10_right</th>\n",
       "      <th>INTPTLON10_right</th>\n",
       "      <th>PARTFLG10_right</th>\n",
       "      <th>count</th>\n",
       "      <th>nunique</th>\n",
       "    </tr>\n",
       "  </thead>\n",
       "  <tbody>\n",
       "    <tr>\n",
       "      <th>17</th>\n",
       "      <td>25</td>\n",
       "      <td>01905</td>\n",
       "      <td>2501905</td>\n",
       "      <td>B5</td>\n",
       "      <td>G6350</td>\n",
       "      <td>S</td>\n",
       "      <td>9219345</td>\n",
       "      <td>1195154</td>\n",
       "      <td>+42.4659985</td>\n",
       "      <td>-070.9757922</td>\n",
       "      <td>...</td>\n",
       "      <td>B5</td>\n",
       "      <td>G6350</td>\n",
       "      <td>S</td>\n",
       "      <td>9219345.0</td>\n",
       "      <td>1195154.0</td>\n",
       "      <td>+42.4659985</td>\n",
       "      <td>-070.9757922</td>\n",
       "      <td>N</td>\n",
       "      <td>11.0</td>\n",
       "      <td>11.0</td>\n",
       "    </tr>\n",
       "    <tr>\n",
       "      <th>18</th>\n",
       "      <td>25</td>\n",
       "      <td>01904</td>\n",
       "      <td>2501904</td>\n",
       "      <td>B5</td>\n",
       "      <td>G6350</td>\n",
       "      <td>S</td>\n",
       "      <td>11708211</td>\n",
       "      <td>1303900</td>\n",
       "      <td>+42.4924563</td>\n",
       "      <td>-070.9739297</td>\n",
       "      <td>...</td>\n",
       "      <td>B5</td>\n",
       "      <td>G6350</td>\n",
       "      <td>S</td>\n",
       "      <td>11708211.0</td>\n",
       "      <td>1303900.0</td>\n",
       "      <td>+42.4924563</td>\n",
       "      <td>-070.9739297</td>\n",
       "      <td>N</td>\n",
       "      <td>7.0</td>\n",
       "      <td>7.0</td>\n",
       "    </tr>\n",
       "    <tr>\n",
       "      <th>21</th>\n",
       "      <td>25</td>\n",
       "      <td>01915</td>\n",
       "      <td>2501915</td>\n",
       "      <td>B5</td>\n",
       "      <td>G6350</td>\n",
       "      <td>S</td>\n",
       "      <td>39091336</td>\n",
       "      <td>3958118</td>\n",
       "      <td>+42.5702688</td>\n",
       "      <td>-070.8669962</td>\n",
       "      <td>...</td>\n",
       "      <td>B5</td>\n",
       "      <td>G6350</td>\n",
       "      <td>S</td>\n",
       "      <td>39091336.0</td>\n",
       "      <td>3958118.0</td>\n",
       "      <td>+42.5702688</td>\n",
       "      <td>-070.8669962</td>\n",
       "      <td>N</td>\n",
       "      <td>19.0</td>\n",
       "      <td>19.0</td>\n",
       "    </tr>\n",
       "    <tr>\n",
       "      <th>35</th>\n",
       "      <td>25</td>\n",
       "      <td>02462</td>\n",
       "      <td>2502462</td>\n",
       "      <td>B5</td>\n",
       "      <td>G6350</td>\n",
       "      <td>S</td>\n",
       "      <td>1369318</td>\n",
       "      <td>69749</td>\n",
       "      <td>+42.3287076</td>\n",
       "      <td>-071.2559002</td>\n",
       "      <td>...</td>\n",
       "      <td>NaN</td>\n",
       "      <td>NaN</td>\n",
       "      <td>NaN</td>\n",
       "      <td>NaN</td>\n",
       "      <td>NaN</td>\n",
       "      <td>NaN</td>\n",
       "      <td>NaN</td>\n",
       "      <td>NaN</td>\n",
       "      <td>NaN</td>\n",
       "      <td>NaN</td>\n",
       "    </tr>\n",
       "    <tr>\n",
       "      <th>37</th>\n",
       "      <td>25</td>\n",
       "      <td>01760</td>\n",
       "      <td>2501760</td>\n",
       "      <td>B5</td>\n",
       "      <td>G6350</td>\n",
       "      <td>S</td>\n",
       "      <td>38359306</td>\n",
       "      <td>2599042</td>\n",
       "      <td>+42.2848223</td>\n",
       "      <td>-071.3488109</td>\n",
       "      <td>...</td>\n",
       "      <td>B5</td>\n",
       "      <td>G6350</td>\n",
       "      <td>S</td>\n",
       "      <td>38359306.0</td>\n",
       "      <td>2599042.0</td>\n",
       "      <td>+42.2848223</td>\n",
       "      <td>-071.3488109</td>\n",
       "      <td>N</td>\n",
       "      <td>15.0</td>\n",
       "      <td>15.0</td>\n",
       "    </tr>\n",
       "  </tbody>\n",
       "</table>\n",
       "<p>5 rows × 26 columns</p>\n",
       "</div>"
      ],
      "text/plain": [
       "   STATEFP10_left ZCTA5CE10_left GEOID10_left CLASSFP10_left MTFCC10_left  \\\n",
       "17             25          01905      2501905             B5        G6350   \n",
       "18             25          01904      2501904             B5        G6350   \n",
       "21             25          01915      2501915             B5        G6350   \n",
       "35             25          02462      2502462             B5        G6350   \n",
       "37             25          01760      2501760             B5        G6350   \n",
       "\n",
       "   FUNCSTAT10_left  ALAND10_left  AWATER10_left INTPTLAT10_left  \\\n",
       "17               S       9219345        1195154     +42.4659985   \n",
       "18               S      11708211        1303900     +42.4924563   \n",
       "21               S      39091336        3958118     +42.5702688   \n",
       "35               S       1369318          69749     +42.3287076   \n",
       "37               S      38359306        2599042     +42.2848223   \n",
       "\n",
       "   INTPTLON10_left  ... CLASSFP10_right MTFCC10_right  FUNCSTAT10_right  \\\n",
       "17    -070.9757922  ...              B5         G6350                 S   \n",
       "18    -070.9739297  ...              B5         G6350                 S   \n",
       "21    -070.8669962  ...              B5         G6350                 S   \n",
       "35    -071.2559002  ...             NaN           NaN               NaN   \n",
       "37    -071.3488109  ...              B5         G6350                 S   \n",
       "\n",
       "   ALAND10_right AWATER10_right INTPTLAT10_right INTPTLON10_right  \\\n",
       "17     9219345.0      1195154.0      +42.4659985     -070.9757922   \n",
       "18    11708211.0      1303900.0      +42.4924563     -070.9739297   \n",
       "21    39091336.0      3958118.0      +42.5702688     -070.8669962   \n",
       "35           NaN            NaN              NaN              NaN   \n",
       "37    38359306.0      2599042.0      +42.2848223     -071.3488109   \n",
       "\n",
       "   PARTFLG10_right count  nunique  \n",
       "17               N  11.0     11.0  \n",
       "18               N   7.0      7.0  \n",
       "21               N  19.0     19.0  \n",
       "35             NaN   NaN      NaN  \n",
       "37               N  15.0     15.0  \n",
       "\n",
       "[5 rows x 26 columns]"
      ]
     },
     "execution_count": 229,
     "metadata": {},
     "output_type": "execute_result"
    }
   ],
   "source": [
    "#Spatial Join\n",
    "sch_join = gpd.sjoin(zcta_boston,spatial_sch, how='left', op='contains', lsuffix='left', rsuffix='right')\n",
    "sch_join.head()"
   ]
  },
  {
   "cell_type": "code",
   "execution_count": 230,
   "id": "d39d468c-1ed0-44ac-b0e7-f07537d1e66c",
   "metadata": {},
   "outputs": [],
   "source": [
    "sch_join.fillna(0, inplace=True)"
   ]
  },
  {
   "cell_type": "code",
   "execution_count": 231,
   "id": "67b717bb-d6fe-4aa8-81fe-e94a07b08206",
   "metadata": {},
   "outputs": [
    {
     "data": {
      "text/plain": [
       "<AxesSubplot:>"
      ]
     },
     "execution_count": 231,
     "metadata": {},
     "output_type": "execute_result"
    },
    {
     "data": {
      "image/png": "[encoded data removed]",
      "text/plain": [
       "<Figure size 432x288 with 2 Axes>"
      ]
     },
     "metadata": {
      "needs_background": "light"
     },
     "output_type": "display_data"
    }
   ],
   "source": [
    "sch_join.plot(column = 'count',legend=True)"
   ]
  },
  {
   "cell_type": "code",
   "execution_count": 232,
   "id": "32ad5cde-0d28-4d81-909f-779398488db2",
   "metadata": {},
   "outputs": [],
   "source": [
    "sch_join['reclassify']=np.NaN"
   ]
  },
  {
   "cell_type": "code",
   "execution_count": 233,
   "id": "c6e719b7-4425-44eb-b771-3278d386fff0",
   "metadata": {},
   "outputs": [],
   "source": [
    "#Reclassification\n",
    "sch_join.loc[sch_join['count']>=13,'reclassify']=5\n",
    "sch_join.loc[(sch_join['count']>=10) & (sch_join['count']<13),'reclassify']=4\n",
    "sch_join.loc[(sch_join['count']>=5) & (sch_join['count']<10),'reclassify']=3\n",
    "sch_join.loc[(sch_join['count']>=1) & (sch_join['count']<5),'reclassify']=2\n",
    "sch_join.loc[(sch_join['count']<1),'reclassify']=1"
   ]
  },
  {
   "cell_type": "code",
   "execution_count": 234,
   "id": "72c875e7-9d4a-4893-80c0-787e17afed55",
   "metadata": {},
   "outputs": [
    {
     "data": {
      "text/plain": [
       "<AxesSubplot:>"
      ]
     },
     "execution_count": 234,
     "metadata": {},
     "output_type": "execute_result"
    },
    {
     "data": {
      "image/png": "[encoded data removed]",
      "text/plain": [
       "<Figure size 432x288 with 2 Axes>"
      ]
     },
     "metadata": {
      "needs_background": "light"
     },
     "output_type": "display_data"
    }
   ],
   "source": [
    "sch_join.plot(column = 'reclassify',legend=True)"
   ]
  },
  {
   "cell_type": "markdown",
   "id": "6834f27b-9a0c-4142-9ed8-12504b40e332",
   "metadata": {},
   "source": [
    "I will start my suitability analysis here. "
   ]
  },
  {
   "cell_type": "code",
   "execution_count": null,
   "id": "d096f15e-86e0-407e-9e75-2b856da4c51c",
   "metadata": {},
   "outputs": [],
   "source": [
    "#Calculate weighted rasters\n",
    "weighted_suitability = landcover_reclass*0.15 + Trees_reclass*0.15 + hospital_reclass*0.35 + school_reclass*0.35"
   ]
  },
  {
   "cell_type": "code",
   "execution_count": null,
   "id": "7397a11e-707d-4bd7-bce4-17e71dadde83",
   "metadata": {},
   "outputs": [],
   "source": [
    "show(weighted_suitability)"
   ]
  },
  {
   "cell_type": "code",
   "execution_count": null,
   "id": "043bd40a-c54f-476c-8439-453a3f1757ba",
   "metadata": {},
   "outputs": [],
   "source": [
    "#Mask the Risk Rasters\n",
    "boundaries_raster = features.rasterize(zcta_boston['geometry'], out_shape=landcover_shape, \n",
    "                                       fill=1, transform=landcover_transform, default_value=0)"
   ]
  },
  {
   "cell_type": "code",
   "execution_count": null,
   "id": "8ff05a6b-0873-4f53-8129-9f185028821b",
   "metadata": {},
   "outputs": [],
   "source": [
    "suitability_map = weighted_suitability.copy()"
   ]
  },
  {
   "cell_type": "code",
   "execution_count": null,
   "id": "cc1a9924-a982-4569-b661-5ad0e5d7fe95",
   "metadata": {},
   "outputs": [],
   "source": [
    "show(suitability_map, cmap='RdYlBu_r',transform=landcover_transform)\n",
    "plt.show()"
   ]
  },
  {
   "cell_type": "code",
   "execution_count": null,
   "id": "af9201ca-0abb-427e-b856-b2d7e030c74c",
   "metadata": {},
   "outputs": [],
   "source": [
    "#Zonal Statistics\n",
    "#Visualization\n",
    "ax = zcta_boston.plot(facecolor='None', edgecolor='black')\n",
    "show(suitability_map, ax=ax,cmap='RdYlBu',transform=landcover_transform)\n",
    "plt.show()"
   ]
  },
  {
   "cell_type": "code",
   "execution_count": null,
   "id": "0733c68d-89f6-4bf1-8e58-e565d7559b10",
   "metadata": {},
   "outputs": [],
   "source": [
    "stats = pd.DataFrame(zonal_stats(zcta_boston, suitability_map, affine=landcover_transform, stats=['mean', 'count'], nodata = np.NaN))"
   ]
  },
  {
   "cell_type": "code",
   "execution_count": null,
   "id": "c5f87d13-b781-4888-abd6-0eec71701f7e",
   "metadata": {},
   "outputs": [],
   "source": [
    "zones_stats = zcta_boston.join(stats)"
   ]
  },
  {
   "cell_type": "markdown",
   "id": "972173ac-a4f9-412c-8e38-d50c6bc4c864",
   "metadata": {},
   "source": [
    "zones_stats.plot(column = 'mean', cmap='RdYlBu_r', legend=True)\n",
    "plt.show()"
   ]
  },
  {
   "cell_type": "code",
   "execution_count": null,
   "id": "7cef2be1-f5f1-495c-85a5-72d7ceba8e54",
   "metadata": {},
   "outputs": [],
   "source": []
  }
 ],
 "metadata": {
  "kernelspec": {
   "display_name": "Python 3",
   "language": "python",
   "name": "python3"
  },
  "language_info": {
   "codemirror_mode": {
    "name": "ipython",
    "version": 3
   },
   "file_extension": ".py",
   "mimetype": "text/x-python",
   "name": "python",
   "nbconvert_exporter": "python",
   "pygments_lexer": "ipython3",
   "version": "3.8.8"
  }
 },
 "nbformat": 4,
 "nbformat_minor": 5
}
